{
 "cells": [
  {
   "cell_type": "markdown",
   "metadata": {},
   "source": [
    "# WhatsApp Group CHat Analysis"
   ]
  },
  {
   "cell_type": "code",
   "execution_count": 123,
   "metadata": {},
   "outputs": [],
   "source": [
    "import re\n",
    "import pandas as pd\n",
    "import seaborn as sns"
   ]
  },
  {
   "cell_type": "markdown",
   "metadata": {},
   "source": [
    "### Load Chats from external text file using file function"
   ]
  },
  {
   "cell_type": "code",
   "execution_count": 124,
   "metadata": {},
   "outputs": [
    {
     "data": {
      "text/plain": [
       "'24/08/20, 6:03 pm - Messages and calls are end-to-end encrypted. No one outside of this chat, not even WhatsApp, can read or listen to them. Tap to learn more.\\n24/08/20, 6:03 pm - Shankare created group \"Edenhall ❤️\"\\n24/08/20, 6:03 pm - Shankare added you\\n24/08/20, 6:04 pm - Shankare: Hey Patrick-Siobhan!! These  are my roomates and friends who will be sharing the place.\\n24/08/20, 6:08 pm - Jay: Hi Patrick and Siobhan, my name is Jay. Me and my friend Mayur will be joining UCC for masters this year and we found your apartment ideal and close by.\\n24/08/20, 6:10 pm - Meena: Hello patrick-siobhan :) myself meena loganathan. I would be joining ucc this study year for the course Msc .Corporate finance. Me and Shankare would be sharing one double bedroom.\\n24/08/20, 6:47 pm - Mayur: Hello Patrick and Siobhan, it\\'s nice to meet you! :)\\n24/08/20, 7:45 pm - Siobhan: Hi Meena, Jay, Mayur and of course Shankare.\\nThank you for setting up this group I t a great way to link up with each other.\\nIam sure you are all very busy getting ready for the big move. Please feel free to ask any questions\\nSiobhan and Patrick 😀\\n24/08/20, 7:50 pm - Shankare: Sure!! 😁\\n24/08/20, 7:51 pm - Meena: Hie siobhan.. Nice to meet you😊\\n24/08/20, 7:51 pm - Jay: Hey sure thing 😁\\n24/08/20, 7:52 pm - Meena: Sure👍\\n24/08/20, 7:52 pm - Siobhan: Lovely to meet you all.\\n24/08/20, 8:02 pm - Mayur: Sure! 😌\\n25/08/20, 7:14 am - Jay: Hi Siobhan and Patrick, are you guys registered with PRTB ?\\n25/08/20, 7:22 am - Siobhan: Yes we register all our properties with RTB. Once new tenants move in the property details are updated with new tenants details\\n25/08/20, 7:24 am - Siobhan: All landlords in Ireland are required to register unless they live in the property with the tenants ie are renting out a room only\\n25/08/20, 7:25 am - Siobhan: New tenants are not registered until they move in to the property\\n25/08/20, 7:29 am - Siobhan: I can do up the lease document for you all to review\\nIf you forward me your full names and the date of commencement of the lease and how long for eg. 1 year. I will get it sent to you today so you can go through it and come back with any queries\\n25/08/20, 7:32 am - Jay: Thank you for all the information, this seems good. We will decide mutually and come up with a date and let you know because we are all at different stages of preparation.\\n25/08/20, 7:33 am - Meena: Thank for the info..Sure siobhan. We will forward you the details sooner.\\n25/08/20, 7:34 am - Shankare: Thank you so much Siobhan\\n25/08/20, 7:40 am - Siobhan: Thank you We will also send you a copy of our passports with the lease to reassure you and your family.\\n25/08/20, 7:41 am - Jay: Thank you that\\'ll be reassuring 😅\\n25/08/20, 7:42 am - Shankare: That\\'s perfect!! Thank you so much\\n25/08/20, 7:44 am - Siobhan: No problem at all\\nIt is very hard for you all to be dealing with someone so far away when organising such important things\\n25/08/20, 7:48 am - Shankare: Yes.. Exactly we were bombarded with whole lot things.. Thank you so much for understanding and being patient with me from the beginning.. 😅\\n25/08/20, 7:51 am - Siobhan: It is so hard to get organised this year especially\\nEven within Ireland with trying to keep everyone safe.\\n25/08/20, 7:51 am - Meena: Thanks alot for understanding us😊\\n27/08/20, 2:18 pm - Siobhan: Hi all\\nI was wondering how you all are getting on. Hopefully this finds you well\\n27/08/20, 2:58 pm - Shankare: Pretty good Patrick!! Just organising things.\\n27/08/20, 3:05 pm - Jay: Hey, all is fine here hope you\\'re doing well too. We\\'re between booking flights + shopping + packing. Hope to see you soon 😅\\n27/08/20, 3:35 pm - Siobhan: Be sure to bring your umbrella and rain wear!\\nFour seasons in one day at the moment in Ireland \\nTuesday night high winds Yesterday was so warm, calm and sunny Today it hasn\\'t stopped raining and is so cold and damp ☔\\nIf you send me the 4 full names and dates I will do the contract for you to review and we can add if someone else joins up with ye\\n27/08/20, 3:42 pm - Shankare: Sure we will def keep that in mind.. We will discuss the dates and get back to you.\\n27/08/20, 3:44 pm - Meena: Hello Patrick and siobhan! Hope u are doing well! As mentioned above by my friends we are in the mid of arranging things..\\n27/08/20, 3:45 pm - Meena: Thank you for the information..we wl surely organise ourselves accordingly. 😊\\n27/08/20, 3:58 pm - Mayur: Thanks for the update! We will keep this in mind. 😇\\n27/08/20, 4:00 pm - Jay: Ohh thanks for that, I\\'ll buy an umbrella tomorrow or maybe rain wear would be a safe bet as it\\'s windy too? My full name is Jayesh Prakash Rao. I\\'ll confirm my arrival date later.\\n27/08/20, 4:02 pm - Mayur: My name is Mayur Shailesh Sawant.\\n27/08/20, 4:33 pm - Siobhan: Thank you\\n27/08/20, 4:34 pm - Mayur: Hey Siobhan, can we know what kind of stoves are present in the kitchen? Is it the Induction one or the gas one?\\n27/08/20, 4:35 pm - Siobhan: Induction ceramic hob\\nThen there is an oven for baking\\n27/08/20, 4:36 pm - Mayur: Okay. So I guess we will need to bring flat based utensils with us.\\n27/08/20, 4:37 pm - Siobhan: https://www.buyitdirect.ie/p/indesit-ti60x-60cm-four-zone-solid-plate-electic-hob-stainless-steel-ti60x?refsource=bidieadwords&mkwid=s3pnpVUFs_dm&pcrid=291254296687&product=TI60X&pgrid=58589343756&ptaid=pla-477340086644&channel=googlesearch&gclid=Cj0KCQjws536BRDTARIsANeUZ58SLxqDxk0ovLsZ-a0wP4dvbjQiYbJKu13Gjcs1llGzKXOHsjg7l_kaAh-iEALw_wcB\\nIt looks like this\\n27/08/20, 4:37 pm - Mayur: Okay, thanks :)\\n27/08/20, 4:38 pm - Siobhan: There was some utensils there when the guys moved in so I assume they should be OK\\n27/08/20, 4:38 pm - Mayur: Alright\\n27/08/20, 4:39 pm - Siobhan: https://www.buyitdirect.ie/p/indesit-ifw6230whuk-four-function-electric-built-in-single-oven-white-ifw6230whuk?refsource=bidieadwords&mkwid=sanw99M2j_dm&pcrid=291209596470&product=IFW6230WHUK&pgrid=65405135984&ptaid=pla-448870471153&channel=googlesearch&gclid=Cj0KCQjws536BRDTARIsANeUZ58CZi3FTKpDBeiGDpTr80QNjmqZtZcE5muG9ojG9GlRWcFGi96docsaAhbZEALw_wcB\\nOven would be similar to this\\n28/08/20, 5:57 am - Shankare: My full name is Shankare Muthukumar Shiva\\nE-mail- Shankare.shankz@gmail.com\\n28/08/20, 5:58 am - Meena: My full name is Meena Loganathan\\nEmail - meenzinbox@gmail.com\\n28/08/20, 6:52 am - Siobhan: Thank you\\nWhat date would contract start for move in date and is it until end of August 2021?\\n29/08/20, 12:36 am - Siobhan: <Media omitted>\\n29/08/20, 12:37 am - Siobhan: I just put in provisional dates\\n29/08/20, 5:18 am - Mayur: Hi Siobhan, could you please provide us a video or pictures of the apartment we\\'re going to be in? \\nBecause we have a few pictures and a video but the apartment is different in both! 😅\\nThanks\\n29/08/20, 5:26 am - Shankare: Thank you Siobhan\\n29/08/20, 6:56 am - Jay: Hi Siobhan,\\nWe would prefer a 6 month contract first. Can you provide us pictures/video of the apartment we are moving in. Also I came across a website for Edenhall, just wanted to know if you guys do it through that or individually. Thanks for the document, we will go through it and get back with questions 😄\\n29/08/20, 7:21 am - Meena: Thank you siobhan\\n29/08/20, 9:44 am - Siobhan: This is the apartment\\n29/08/20, 9:47 am - Siobhan: No we do not operate on the website\\nThe website is operated by the management company who deal with large numbers of apartments\\nThe minimum length of the lease would be 9 months\\n29/08/20, 9:49 am - Siobhan: <Media omitted>\\n29/08/20, 10:18 am - Siobhan: All apartments are very similar so any photos on website would be similar to ours\\nWith the management company you don\\'t rent an apartment you rent a an individual and they allocate each person into an apartment as far as I\\'m aware The allocation placement in the apartment may be with people who don\\'t know each other \\nWe self manage\\nWe always rent it as a full apartment so the people know each other and hopefully enjoy each others company \\nWith the management company you pay your rent in 2 installments instead of monthly \\nEach person pays for a lump sum upfront for electricity where we have pre pay power meters so you top it up as required\\nWe pay fees for the cost of security, waste disposal, WiFi, maintenance of the common areas\\nProblems that may arise where for example a key card was causing the reception office \\nIt problem was with anything inside the apartment we would deal with the repairs\\nWith the website you deal with the management company and not the owner \\nI hope I have explained this ok\\n29/08/20, 1:37 pm - Mayur: Thanks Siobhan for this info. 😇\\n29/08/20, 6:08 pm - Shankare added Shaival\\n30/08/20, 10:49 am - Shaival: Hello, Patrick. Hope you\\'re doing well. My name is Shaival Mehta, I\\'ll be joining University College Cork for Msc in Business Information and Analytical Systems. I\\'ll be arriving in Cork around 20th September. Your house is beautiful. Cheers😇\\n30/08/20, 12:25 pm - Siobhan: Thank you Shaival\\n30/08/20, 1:04 pm - Jay: Thank you for the clear explanation Siobhan. I read the contract and have a couple of questions/corrections 1. My name should be \"Jayesh Prakash Rao\". 2. What is TV Licence fee? 3. Can we have the lease for 9 months first as mentioned by you?\\n30/08/20, 2:20 pm - Siobhan: Hi Jayesh\\nI will amend your name \\nThe TV licence is an annual fee of @ 150 euro for having a tv\\nIt is not necessary to get it unless it is required and I can then sort it out for ye\\nI will do a 9 month contract \\nWhat date do you want it to commence?\\n30/08/20, 2:43 pm - Siobhan: The date of the 1st person\\'s arrival\\n03/09/20, 7:50 am - Shankare added Aman\\n03/09/20, 8:16 am - Aman: Hi Patrick, I am Aman. I will also be joining the house with all others. I will be landing in cork on 14th September.\\n03/09/20, 8:16 am - Aman: 😊\\n03/09/20, 8:23 am - Jay: You deleted this message\\n03/09/20, 8:49 am - Jay: Hi Patrick, So Aman is the first person to travel on 14th so we would like the contract  start date to be the same. Also let us all know about when/how do we pay the deposit. We collectively decided that once Aman reaches there and moves in we will all make the payments from our side, we request you to allow for the same. We all will be coming between 15th to 20th, while Shankare will be coming next month.\\n03/09/20, 12:49 pm - Siobhan: Hi Aman\\n03/09/20, 12:55 pm - Aman: Hi\\n04/09/20, 12:18 pm - Mayur: Hello @353876250177 / Patrick, could you please confirm on this so that we can plan further accordingly? 😅\\n04/09/20, 12:19 pm - Shaival: Yeah exactly\\n04/09/20, 12:20 pm - Shaival: We have received registration details from our university and we need to give our accomodation address in it. So, could you please clarify everything that has been already asked by @919004169650 . Thank you!!\\n05/09/20, 8:35 am - Jay: Hi Siobhan, kindly update us as we have a lot of forms to fill with addresses in them. Let us all have a call today and fill the gaps if any in our communication, Aman has already booked his flight for 13th so it is very urgent that we make a deal.\\n05/09/20, 9:19 am - Siobhan: The address is M3 Edenhall\\nModel Farm Road\\nCork\\n05/09/20, 9:46 am - Siobhan: Can I get a list of the names of all people\\n05/09/20, 9:49 am - Meena: Sure @353876250177\\n05/09/20, 10:16 am - Jay: Meena Loganathan\\nShankare Muthukumar Shiva\\nMayur Shailesh Sawant\\nJayesh Prakash Rao\\nShaival Pruthul Mehta\\nAman Sri Narayana\\n05/09/20, 10:18 am - Jay: Final list\\n05/09/20, 10:21 am - Siobhan: 👍\\n06/09/20, 10:47 am - Meena: Hello Patrick / Siobhan.. Hope you are doing well.. May I get the eircode as it required for our student registration process. Thank you!!\\n06/09/20, 11:07 am - Siobhan: APARTMENT M3\\nEDENHALL\\nMODEL FARM ROAD\\nCORK\\nT12 DD0P\\n06/09/20, 11:07 am - Siobhan: APARTMENT M3\\nEDENHALL\\nMODEL FARM ROAD\\nCORK\\nT12 DD0P\\n06/09/20, 11:08 am - Meena: Thank you😊\\n06/09/20, 12:00 pm - Siobhan: 👍\\n06/09/20, 1:30 pm - Siobhan: I will get the contract sorted out for ye\\n06/09/20, 1:31 pm - Meena: Thank you siobhan😊\\n06/09/20, 1:31 pm - Jay: thank you Siobhan 😄\\n06/09/20, 2:07 pm - Shaival: Thank you!!\\n06/09/20, 2:11 pm - Mayur: Thanks Siobhan 😌\\n06/09/20, 2:33 pm - Shankare: Thank you Patrick and Siobhan 😊\\n06/09/20, 3:21 pm - Aman: Thank you Patrick and Siobhan 😎\\n08/09/20, 8:49 am - Aman: Hi, Patrick and Siobhan \\nI am traveling on 13th from India and will reach cork on 13th night may be around 11pm. I need the agreement copy or something to show at airport. It would be great if you could avail me with the softcopy. Rest I can manage with authorities. Please help🙂\\n08/09/20, 5:30 pm - Siobhan: Hi all I will get the contract to you\\nI am just confused as to who is moving in as I am getting messages from people both on and off the group\\n08/09/20, 5:31 pm - Siobhan: Meena Loganathan\\nShankare Muthukumar Shiva\\nMayur Shailesh Sawant\\nJayesh Prakash Rao\\nShaival Pruthul Mehta\\nAman Sri Narayana\\n08/09/20, 5:35 pm - Siobhan: Are the above correct\\nAs I gave queries about other people staying for short periods and I am unclear\\nThe lease is for the above named people is that correct?\\nThe lease will start next week for all 6 people on the arrival of the 1st person. \\nIt is for 9 calendar months\\n08/09/20, 5:36 pm - Siobhan: Hi Aman\\nAre you landing to Cork Sunday night 13th or Monday night the 14th\\n08/09/20, 5:38 pm - Meena: Hello siobhan..Sorry for the confusion.. These are the ppl who are going to take up the lease.\\n08/09/20, 5:43 pm - Meena: Thank you so much for your paitence😊\\n08/09/20, 5:54 pm - Aman: Yes I m landing on 13th night around 10pm\\n08/09/20, 5:54 pm - Siobhan: Where are you landing?\\n08/09/20, 5:54 pm - Aman: Cork\\n08/09/20, 5:55 pm - Aman: Can I send my ticket for reference?\\n08/09/20, 5:55 pm - Siobhan: 👍\\n08/09/20, 5:55 pm - Siobhan: Perfect\\n08/09/20, 5:55 pm - Aman: <Media omitted>\\n08/09/20, 5:56 pm - Aman: That\\'s my ticket\\n08/09/20, 5:56 pm - Siobhan: Ok\\nThats very convenient not having to travel from Dublin\\n08/09/20, 5:57 pm - Aman: <Media omitted>\\n09/09/20, 5:01 pm - Siobhan: I will do the contract up for 5 now is that correct?\\n09/09/20, 5:39 pm - Mayur: Hello Siobhan, we just had one concern.\\nSuppose if we create a contract for 5 of us at the moment. But by next month, we manage to find a sixth person, can we add him in the contract later or edit the contract somehow?\\nThanks!\\n09/09/20, 9:26 pm - Siobhan: <Media omitted>\\n09/09/20, 9:27 pm - Siobhan: An amended copy with the additional person can be sent\\n09/09/20, 9:28 pm - Siobhan: Just to advise to bring bed linen with ye as there is none in the apartment\\n09/09/20, 9:29 pm - Jay: Sounds good, thanks Siobhan\\n09/09/20, 9:30 pm - Jay: We will add a new person from next month\\n09/09/20, 9:48 pm - Mayur: Thanks Siobhan!\\n09/09/20, 9:48 pm - Mayur: Are there blankets available? Or do we need to carry those too?\\n09/09/20, 10:08 pm - Siobhan: No bedding there. \\nThere is a shop called penneys they are the best value for duvets sheets etc\\n10/09/20, 5:13 am - Shaival: Thanks Siobhan!!!\\n10/09/20, 8:06 am - Meena: Thanks siobhan!\\n10/09/20, 8:13 am - Aman: Thanks siobhan!\\n10/09/20, 8:23 am - Meena: Hello Siobhan! Can you kindly clarify us on the written reference. As we are new to the place! Thank you! Have a good day!\\n10/09/20, 9:13 am - Siobhan: It is a recommendation ie from college, previous landlord, reputable person\\n10/09/20, 9:30 am - Meena: Thank you siobhan!\\n10/09/20, 11:00 am - Siobhan: <Media omitted>\\n10/09/20, 11:01 am - Siobhan: Hi all this is the bank account details for deposit and rent\\nThe deposit and rent is to be paid from 1 account in 1 full amount\\nKind regards Siobhan\\n10/09/20, 11:18 am - Meena: This message was deleted\\n10/09/20, 11:21 am - Meena: Sure siobhan. Can u also kindly clarify on the rent part because it is mentioned in the agreement as..\"Rent which is less than one month will be calculated on pro rata\". Thank you for your patience! 😊\\n10/09/20, 12:10 pm - Siobhan: That is where a group is moving in example 3rd October until 25th June\\nThe amount of rent from 3rd June to 25th June would not be a full month so it would be calculated as the rate per day x the amount of days\\n\\nMonthly rent €30\\n\\nRent per day\\n€1\\n22 days x €1= €22\\n10/09/20, 12:33 pm - Meena: Thank you siobhan for the clarification! 😊\\n13/09/20, 7:44 am - Siobhan: Hi all\\nI am linking with you all as I have had no word regarding contract being signed, refererences, IDs or transfer of deposit\\nKind regards Siobhan\\n13/09/20, 8:08 am - Shankare left\\n13/09/20, 8:26 am - Jay: Hi Siobhan,\\nApologies for the delay, we will be sending our IDs and University reference, meanwhile Aman is on his way. We had collectively decided to sign and pay the deposit once he reaches the apartment. Kindly share yours and Patrick\\'s passports as well. Also Aman is trying to reach you on call as he needs your help.\\n13/09/20, 8:33 am - Siobhan: I have been in touch with Aman he does not need to worry\\n13/09/20, 8:33 am - Jay: Thanks a lot Siobhan\\n13/09/20, 8:34 am - Meena: Hello Siobhan, sorry for the delay.. We wl send our id\\'s and university reference. Thank you!\\n13/09/20, 8:34 am - Siobhan: Perfect\\n13/09/20, 8:36 am - Shaival: Thank you so much Siobhan!!\\n13/09/20, 8:36 am - Mayur: Thanks Siobhan! 😇\\n13/09/20, 8:37 am - Aman: Thank you so much\\n13/09/20, 8:45 am - Jay: <Media omitted>\\n13/09/20, 8:45 am - Jay: <Media omitted>\\n13/09/20, 8:45 am - Jay: My passport and University reference\\n13/09/20, 8:48 am - Meena: <Media omitted>\\n13/09/20, 8:49 am - Meena: <Media omitted>\\n13/09/20, 8:49 am - Meena: My passport and university reference\\n13/09/20, 8:53 am - Mayur: <Media omitted>\\n13/09/20, 8:53 am - Mayur: <Media omitted>\\n13/09/20, 8:53 am - Mayur: My Passport and University Reference\\n13/09/20, 8:53 am - Shaival: <Media omitted>\\n13/09/20, 8:54 am - Shaival: <Media omitted>\\n13/09/20, 8:54 am - Shaival: My Passport and University Reference\\n13/09/20, 9:01 am - Siobhan: Thank you\\n13/09/20, 9:06 am - Meena added Gunjan (Griffith College)\\n13/09/20, 9:07 am - Meena: Hello Siobhan, we are happy to add sixth person to the accommodation. She is the prospective student of Griffith college cork. She wl be travelling on October.\\n13/09/20, 9:16 am - Gunjan (Griffith College): Hi Siobhan,\\nGlad to be prt of this group\\nThankyou Meena for my intro\\nGunjan kukreja🙋\\u200d♀️ here from Mumbai, India\\nAnd have took admission for GCC 2020-21🙂\\n13/09/20, 9:19 am - Siobhan: Congratulations Gunjan\\n13/09/20, 9:20 am - Gunjan (Griffith College): Thankyou🙂\\n13/09/20, 9:36 am - Siobhan: Amans accommodation is arranged for tonight in a guest house in Cork so ye don\\'t need to worry about him. It will be better for him anyway landing in where there is someone to meet him and the room ready and warm instead of going into the apartment and trying to figure out how everything works at night time\\nHe will be able go to the apartment whenever he is ready tomorrow\\n13/09/20, 9:37 am - Meena: Thank you siobhan😊\\n13/09/20, 9:39 am - Jay: Awesome! thanks Siobhan 😄\\n13/09/20, 9:45 am - Mayur: That\\'s really great\\n13/09/20, 9:56 am - Siobhan: <Media omitted>\\n13/09/20, 9:57 am - Siobhan: https://www.transportforireland.ie/getting-around/network-maps/cork-city-bus-services/\\n13/09/20, 9:58 am - Siobhan: The 220 is the bus that stops directly outside Edenhall it is a 24 hour service\\n13/09/20, 9:59 am - Shaival: Thanks again Siobhan!!😇\\n13/09/20, 11:38 am - Jay: 👍\\n13/09/20, 6:14 pm - Siobhan: <Media omitted>\\n13/09/20, 6:15 pm - Siobhan: Please find attached the amended lease agreement to include Gunjan\\n13/09/20, 6:18 pm - Jay: Hi Siobhan, whats the difference between lease and rental term as rental term is ending on 14th May and lease finishes on 14th June?\\n13/09/20, 6:21 pm - Gunjan (Griffith College): Thanks👍🏻\\n14/09/20, 1:27 pm - Aman: <Media omitted>\\n14/09/20, 1:28 pm - Aman: <Media omitted>\\n14/09/20, 1:28 pm - Aman: Tap cap not present in room 1\\n14/09/20, 1:29 pm - Aman: Room 3 this table\\'s central part not present\\n14/09/20, 1:30 pm - Aman: <Media omitted>\\n14/09/20, 1:31 pm - Aman: <Media omitted>\\n14/09/20, 1:38 pm - Aman: <Media omitted>\\n14/09/20, 2:04 pm - Aman: <Media omitted>\\n14/09/20, 2:10 pm - Aman: * not opening\\n14/09/20, 6:22 pm - Siobhan: Is wifi sorted\\n15/09/20, 4:17 am - Meena\\'s security code changed. Tap for more info.\\n15/09/20, 7:54 am - Siobhan: Hi all\\nI must receive the signed contract today along with the deposit and the rent as agreed that this would happen once Aman arrived at the apartment. I have not received anything\\n15/09/20, 8:38 am - Shaival: Hey Siobhan, we will sign the contract, and complete our process of deposit as well as rent too, asap. But, I\\'ll request you to go through all the repairs which Aman mentioned, and if you could provide us with pillow, bedsheets and curtains, it will be highly appreciated. Thanks!!\\n15/09/20, 9:26 am - Siobhan: Hi all\\nWe must receive the rent, deposit and contracts today as at present there is no agreement in place. \\nAs advised in my previous message regarding bedding on 9th September at 9.28pm that you would need to all supply your own bedding \\nThis would be necessary with Covid-19. \\nAs advised Penneys store is very reasonable and I shared links to Penneys and Guineys via WhatsApp yesterday for Aman. These shops provide all bedding needs\\nWith regards to curtains \\nWe replaced the curtains last week with new blinds instead which are more hygienic than curtains especially at the present time and also make the room more spacious feeling. \\nThe blinds are put up and down depending on whether you want the room dark or bright and provides the same function as the curtains. \\nWith regards to the WiFi it was connected and working yesterday afternoon\\nThe patio door is working The lock replaced at the weekend by a tradesperson on Saturday. \\nThis allows for the door to be locked from the inside without a key \\nThe knob will be a bit stiff as it is new. \\nWith regards to the tap. \\nThe tap is functioning correctly it is a cover that is missing. This is not required to be replaced and will be documented in our records that this was missing on your commencement of your lease. \\nWith regards to the shelf there are 3 little clips required to slide in the shelf it is not a safety issue and not effecting the functionality of the wardrobe. I will be easily fixed by a tradesperson\\n\\n\\n With regards to the window it is a specific tradesperson who will deal with the crack and assess the best management of it. \\nAt this point the window is secure and the glazier will deal with it. \\nThe desk that the glass is missing I give you authority to put it in the dump as it is not functional. \\n\\nThe heating is working \\nAll the above have been recorded as being present when you arrived and not as a result of your occupation\\nWe always require the deposit and the contracts to secure the property we understoodyour predicament and we were fair to hold the property and allow our address to be used without the agreement in place. The lease commenced yesterday yet when Aman was landing a day early and I was concerned about him trying to find the apartment and get used of the place at night we paid for his accommodation and breakfast so that he would arrive in daylight and get chance to organise shopping, bedding etc. \\nThe contract has gone in advance and I have answered any queries. \\nI will need the contracts back, the deposit and\\nRent as the tenancy started yesterday and nobody can be staying in the property without a contract and deposit and rent paid. I understand that the bank transfer can take a few days so a snap shot of the transaction will suffice and I will confirm receipt of it when it arrives \\nKind regards Siobhan\\n15/09/20, 9:29 am - Siobhan: Spring operated roller blinds rely on a spring tensioned clutch mechanism to hold the fabric in the desired position. The blind is lowered by pulling on a centrally fixed cord at the side of the window . The blind is retracted by a gentle tug on the cord.\\n15/09/20, 9:32 am - Siobhan: https://images.app.goo.gl/PDLKuZjD63rciNPK6\\nThis shows lady adjusting blinds with cord\\n15/09/20, 10:15 am - Mayur: Thanks Siobhan! We\\'ll sort this out\\n15/09/20, 10:19 am - Siobhan: The blinds are usually better than curtains for darkness\\n15/09/20, 10:30 am - Shaival: Thank you Siobhan!!\\n15/09/20, 11:12 am - Aman: <Media omitted>\\n15/09/20, 11:15 am - Aman: <Media omitted>\\n15/09/20, 11:16 am - Aman: <Media omitted>\\n15/09/20, 11:44 am - Siobhan: Turn left knob clockwise\\nI can see you have the power turned on at the wall\\n15/09/20, 12:45 pm - Siobhan: https://transferwise.com/us/blog/opening-a-bank-account-in-ireland\\n15/09/20, 12:51 pm - Siobhan: https://www.forbes.com/advisor/banking/best-ways-to-send-money/\\n15/09/20, 1:01 pm - Siobhan: https://www.gov.ie/en/publication/74440-travelling-to-ireland-from-a-country-that-is-on-the-covid-19-travel-advice-list/\\n15/09/20, 1:04 pm - Siobhan: https://www.gov.ie/en/publication/b4020-travelling-to-ireland-from-a-country-that-is-not-on-the-covid-19-travel-advice-list/\\n15/09/20, 1:38 pm - Mayur: Hi Siobhan, I tried using transferwise to see if we can make a payment\\n15/09/20, 1:38 pm - Mayur: But I am getting an error like this\\n15/09/20, 1:39 pm - Mayur: <Media omitted>\\n15/09/20, 1:39 pm - Mayur: I put the IBAN number below where they had asked for it\\n15/09/20, 2:03 pm - Siobhan: Can your bank in India advise on transfer of funds to Ireland?\\n15/09/20, 2:54 pm - Shaival: Siobhan, we are trying through transferwise, but we are getting errors. Can you help us?\\n15/09/20, 3:05 pm - Jay: Hi Siobhan can you give me your address? My bank needs the beneficiary address.\\n15/09/20, 3:11 pm - Jay: Hi Siobhan, can we for just this one time transfer our respective amounts seperately as it is complicated to co ordinate with our different banks here. We will surely figure this out next month. Transfer will be much faster this way.\\n15/09/20, 3:11 pm - Shaival: Yeah very true\\n15/09/20, 3:12 pm - Shaival: <Media omitted>\\n15/09/20, 4:03 pm - Siobhan: Thank you that is fine\\n15/09/20, 4:04 pm - Siobhan: Chancery\\nTurlough\\nCastlebar\\nCo Mayo\\nF23Y309\\nIreland\\n15/09/20, 4:06 pm - Siobhan: Phone number 00353 87 6250177\\nAlternative number 00353 87 2626082\\n15/09/20, 4:07 pm - Siobhan: Birth place Ireland\\nDate of birth 17 th July 1977\\n15/09/20, 4:10 pm - Shaival: Thank you Siobhan, email id is needed too.\\n15/09/20, 4:19 pm - Jay: Thank you Siobhan\\n15/09/20, 4:19 pm - Jay: I\\'m on it\\n15/09/20, 4:34 pm - Siobhan: premierproperty1@yahoo.com\\n15/09/20, 4:56 pm - Siobhan: https://g.co/kgs/ub2tce\\n15/09/20, 4:57 pm - Siobhan: https://g.co/kgs/zjWb7s\\n15/09/20, 5:15 pm - Shaival: Hey Siobhan, I have added beneficiary details and waiting for approval which I will get within 2 to 3 hours. So, I\\'ll pay today itself. Thank you for your cooperation.\\n15/09/20, 5:18 pm - Mayur: Hi Siobhan\\nSo for this month we\\'re dividing the rent amongst the 5 of us which comes down to 221.86 per person.\\n\\nThe deposit is being shared by all the 6 of us which comes down to 346.66 per person.\\n15/09/20, 5:19 pm - Mayur: So the 5 of us except Gunjan would pay 568.52 while Gunjan would be only the deposit i.e. 346.66.\\n15/09/20, 5:21 pm - Mayur: Please verify the calculation once. 😇\\n15/09/20, 5:31 pm - Siobhan: The rent from the 14th September to 30th September is €221.86 each for 5 persons correct\\n15/09/20, 5:33 pm - Siobhan: The deposit calculation of €346.66x 6 people is correct\\n15/09/20, 5:35 pm - Siobhan: €568.52 for 5 persons deposit and rent included\\nGunjan €346.66 deposit only correct\\n15/09/20, 5:36 pm - Siobhan: Other full calendar months ie 1st October to 31st October €346.66 x6 persons rent only\\n15/09/20, 5:37 pm - Siobhan: Your calculations are correct\\n15/09/20, 5:44 pm - Mayur: Great!\\n15/09/20, 5:44 pm - Mayur: 😀\\n15/09/20, 6:11 pm - Gunjan (Griffith College): Yes thanks👍🏻😀\\n15/09/20, 7:05 pm - Meena: Hello Siobhan/Patrick. Gold evening.Hope you are doing well.  I am really sorry for the delay in payments. As we are new to international transfer payments procedure and bank ppl are also messing up with it, am trying to sort it out as soon as possible. I can understand,the mistake is from my side. Kindly excuse me for a day or two,so before I reach cork I wl make the payment of my deposit and rent. and I am traveling on 18th ..Apologies to the inconvenience caused.. thanks alot for your patience.\\n15/09/20, 7:13 pm - Mayur: <Media omitted>\\n15/09/20, 7:14 pm - Meena: This message was deleted\\n15/09/20, 7:16 pm - Mayur: Hello Patrick/Siobhan\\nI have initiated a transfer of 569 Euros from my end. The transaction should ideally be completed in 2 days. Sending the receipt.\\nSorry for the delay caused, as Meena said the international transfer was a new thing for us and all the process differed from bank to bank. \\nI assure you that others will also sort out the payment asap! 🙂\\n15/09/20, 7:16 pm - Mayur: We would be getting a receipt of the deposit right? So that we can use it during the reimburesment?\\n15/09/20, 7:17 pm - Gunjan (Griffith College): Yes we will make it as early as possible, it is taking time to understand the process.\\n15/09/20, 7:18 pm - Siobhan: Thank you Mayur\\n15/09/20, 7:20 pm - Siobhan: Bank transfer can take a few days even between irish banks\\nIf ye send the snap shot like Mayur then I can see it arriving\\n15/09/20, 7:20 pm - Meena: Sure, Siobhan we wl do it\\n15/09/20, 7:23 pm - Jay: Hi Siobhan, I have initiated the transfer of 568.52 Euro and I just got the message that it is processing, I\\'ll keep you updated. Like Mayur mentioned thanks for being patient for everything is new for us. Also can you please provide a receipt for the rent+deposit so that I can keep for my record.\\n15/09/20, 7:27 pm - Siobhan: I will sent you all confirmation of the deposit\\nThe grant thing with electronic transfer is that it provides both people with a record of all transactions\\n15/09/20, 7:36 pm - Jay: Cool 👍\\n15/09/20, 7:42 pm - Siobhan: It is so convenient for expenses we use it so much here even to sent some birthday gifts of money it just lands in the account and you just put a reference on it so that the person knows where the payment came from\\n15/09/20, 7:50 pm - Gunjan (Griffith College): We will learn too once we reach there and get into convient process😀\\n15/09/20, 8:02 pm - Shaival: <Media omitted>\\n15/09/20, 8:05 pm - Shaival: Hey, Siobhan sorry for the delay. I\\'m still waiting for the approval. If it gets approved within an hour, I\\'ll complete it today itself. Otherwise, I\\'ll complete the payment in Morning surely. Sorry, and thanks for your cooperation.\\n15/09/20, 8:13 pm - Siobhan: That is absolutely fine\\n15/09/20, 8:17 pm - Meena: This message was deleted\\n15/09/20, 8:19 pm - Meena: <Media omitted>\\n15/09/20, 8:48 pm - Siobhan: That is absolutely fine Meena\\n16/09/20, 5:56 am - Shaival: <Media omitted>\\n16/09/20, 5:56 am - Shaival: Hey Siobhan, I have transferred the money. Do let me know whenever you receive it, because this bank is not giving acknowledgement through pdf or anything. Thanks!!\\n16/09/20, 7:23 am - Jay: Hi Siobhan, amount has been debited from my account, let me know when it reflects in yours.\\n16/09/20, 7:38 am - Siobhan: I will message you all\\nI would assume that it will take several days as it seems to go via a swift account on another country 1st\\n16/09/20, 7:40 am - Shaival: Okay!! Thanks Siobhan\\n16/09/20, 7:42 am - Jay: Cool 👍\\n16/09/20, 9:30 am - Gunjan (Griffith College): <Media omitted>\\n16/09/20, 9:32 am - Gunjan (Griffith College): Hi Siobhan,\\nI have transferred money today. I didn\\'t get direct pdf so I took snaps of acknowledgement page and mail received.\\n\\nThanks\\n16/09/20, 9:36 am - Siobhan: Thank you\\n16/09/20, 10:57 am - Shaival: Siobhan, just received text from bank, amount has been deducted. So do let me know once you receive it. Thanks!!!\\n16/09/20, 11:23 am - Siobhan: Thank you Shaival\\n16/09/20, 11:28 am - Shaival: <Media omitted>\\n16/09/20, 1:45 pm - Meena: Hello Siobhan, I have initiated the payment of 569 euros( rent+ deposit ). I have attached the Pdf for your reference.  I did not receive any acknowledgment from my bank yet. Kindly verify my attachment. Also when the money reflects in your account kindly provide us the acknowledgement from ur side.\\n16/09/20, 1:45 pm - Meena: Thank you. have a good day!!\\n16/09/20, 1:46 pm - Siobhan: Thank you Meena\\n16/09/20, 1:46 pm - Meena: <Media omitted>\\n16/09/20, 2:56 pm - Siobhan: Jayesh and Shaival\\nBoth of your deposits and rent is in the account now\\nThank you\\n16/09/20, 4:37 pm - Shaival: 👍😇\\n17/09/20, 10:26 am - Meena: Hello Siobhan , good morning ! Just received a text message from my bank that amount has been deducted. Kindly let me know once you receive it..thank you\\n17/09/20, 10:27 am - Gunjan (Griffith College): Even I received today 4hours prior the message of amount deduction.\\n17/09/20, 10:30 am - Siobhan: Will do Meena\\nThe transfers are arriving very quickly I thought they would take at least a week\\n17/09/20, 10:30 am - Meena: Sure Siobhan..thank you!\\n17/09/20, 2:56 pm - Mayur: Even from my end, the amount has been deducted.\\n17/09/20, 2:59 pm - Siobhan: Great thanks\\n17/09/20, 3:00 pm - Siobhan: Gunjan and Mayur your transfers have arrived thank you\\n17/09/20, 3:05 pm - Meena: Hello Siobhan,can u kindly mine too as you receive it.thank you\\n17/09/20, 3:06 pm - Mayur: Great!\\n17/09/20, 3:06 pm - Siobhan: I will Meena don\\'t worry\\n17/09/20, 3:09 pm - Siobhan: I will get you all to sign the contract\\nI don\\'t know if ye have access to a printer or what way suits ye.\\nI only require the 3 signed sheets back\\nIf it is easier when everyone is in Cork then ye can confirm that ye have read and are happy to proceed with the contract\\n17/09/20, 3:10 pm - Siobhan: I am waiting for Premton to arrange the repair of the shelf and sort out the door etc\\n17/09/20, 3:15 pm - Meena: Thank you siobhan\\n17/09/20, 3:25 pm - Siobhan: I am also waiting for the window company to get back to me\\n17/09/20, 3:26 pm - Shaival: Thank you Siobhan\\n17/09/20, 4:03 pm - Gunjan (Griffith College): Thankyou for your acknowledgment!🙂\\n17/09/20, 8:19 pm - Meena: hello siobhan, i received a notification from my bank saying they have processed the payment and copy of the SWIFT payment message is appended below. Kindly verify it.\\n17/09/20, 8:20 pm - Meena: <Media omitted>\\n17/09/20, 8:20 pm - Meena: Thank you!\\n17/09/20, 8:31 pm - Siobhan: Hi Meena\\nI just checked the account and the money has landed thank you\\n17/09/20, 8:52 pm - Meena: 😌😌\\n19/09/20, 7:08 pm - Aman: Electric meter is making alarm\\n19/09/20, 7:10 pm - Aman: Premton came he saw everything and said you already know about the issues.\\n19/09/20, 7:10 pm - Aman: 1. Sliding door slider is not working. He said you know about it.\\n19/09/20, 7:12 pm - Aman: 2. Room 1&2 shower is not working. He said we need to get a new one, but you need to approve it first.\\n19/09/20, 7:12 pm - Aman: 3. Room 1- main door lock we need to install a new one as there is no lock on the door.\\n19/09/20, 7:14 pm - Aman: 4. Room 3 : window need to be replaced, Premtom told it will be difficult to sleep in that room because night it comes too cold.\\n19/09/20, 7:16 pm - Aman: That day you recharged it. But we need to again do it.\\n19/09/20, 7:18 pm - Aman: 5. Wifi we need to take one more repeater\\n19/09/20, 7:21 pm - Siobhan: Hi all I spoke to Premton\\nHe is going doing the showers and door s\\nI have discussed with Premton that I have already contacted 3 window companies to arrange them to measure and fit the glass he said that he may be able to do the window also and will measure when he is back doing showers\\n19/09/20, 7:24 pm - Shaival: No just repeater, we need to update it. It is not working properly, very low speed, and I\\'m afraid this won\\'t help in our online classes as well.\\n19/09/20, 7:24 pm - Shaival: Not*\\n19/09/20, 7:26 pm - Siobhan: If the wifi is not strong enough you just need to move the repeater to another room as that is what has been recommended as these are very specific repeaters different to what we use in the home. Each bedroom has the place to plug in. \\nThat is a new repeater we purchased on Monday\\n19/09/20, 7:30 pm - Siobhan: After pressing 111\\n19/09/20, 7:32 pm - Siobhan: This is the numbers you press to get the balance\\nI sent 2 codes earlier in the week for top up were both numbers inputted by Aman?\\n19/09/20, 7:33 pm - Siobhan: When you\\'ve topped up you will usually receive a 20 digit Powercode. Just input this into your Keypad:\\nPress* - Then enter your powercode - Then Press#\\n\\nDon’t worry if you enter it wrong, just press * to go back and try again\\n19/09/20, 7:33 pm - Siobhan: Means this number then I need to press *\\n19/09/20, 7:33 pm - Siobhan: Then this number and then #\\n19/09/20, 7:36 pm - Jay: Hi Siobhan, repeater will only increase the range but the network speed will still remain the same. We are facing call drops since morning, can the speed be increased? It\\'s just 16mbps when I last checked and if we all take online classes at the same time it\\'ll be a hassle.\\n19/09/20, 7:37 pm - Siobhan: The two codes were sent to Aman\\nThere should have been ample credit between both codes.\\nAs I explained to Aman\\nyou can top up at the shops that sell pre pay power you get a receipt and you type it in.\\nOnce you get a sim card then you can get your own names and numbers on the account then ye download an app for pre pay power so u can top up and manage your account from your phone\\n19/09/20, 7:38 pm - Aman: 2931 1210 6011 6840 5525 insert this top up code\\n19/09/20, 7:38 pm - Aman: 33892 56349 25968 21289\\n19/09/20, 7:38 pm - Aman: I tried it\\n19/09/20, 7:39 pm - Aman: It\\'s now not working\\n19/09/20, 7:39 pm - Aman: I don\\'t know why\\n19/09/20, 7:46 pm - Siobhan: Can you please move the repeater as advised to the other rooms\\n\\nIf the issue remains try the other repeater that was already in the apartment then that would let us know if the new repeater is at fault\\n\\nIf the issue remains then I will speak with the management company on Monday to see what is best way of addressing the issue \\nThere was 6 people studying full time since March and also some had part time jobs online\\nThey had no issues as I checked with them in August \\nThe nay also be some local issue as there was  works being done by eir the network supplier for Internet in Ireland in Cork due to a storm in August. \\nI don\\'t think all that work is completed yet, it may or may not be a factor. \\nLet me know how moving location works\\n19/09/20, 7:47 pm - Siobhan: Did u press 111\\nSend photo\\n19/09/20, 7:48 pm - Siobhan: Don\\'t worry the electricity will not cut off at weekend\\n19/09/20, 7:55 pm - Aman: <Media omitted>\\n19/09/20, 7:59 pm - Siobhan: You have €27.39\\nYou are OK for electricity \\nSo all credit went on\\nIs light flashing or what type of alarm is there?\\n19/09/20, 7:59 pm - Aman: It\\'s was a alarm ...bee bee sound\\n19/09/20, 8:01 pm - Siobhan: Is it still going\\n19/09/20, 8:04 pm - Aman: No\\n19/09/20, 8:04 pm - Aman: It\\'s happened only once\\n19/09/20, 8:04 pm - Aman: Now it\\'s not making any sound.\\n19/09/20, 8:05 pm - Siobhan: OK there is adequate credit\\n19/09/20, 8:05 pm - Aman: We were unable to sense it. 👍\\n19/09/20, 8:06 pm - Siobhan: I will share info on the meter\\nIt is called the classic meter\\n19/09/20, 8:07 pm - Siobhan: https://www.prepaypower.ie/support/topping-up\\n19/09/20, 8:07 pm - Aman: And one more siobhan, Premtom said, that we either need to have a door in washroom or the curtains length should be  increased in washroom. Because once a person takes a bath the whole washroom is wet and it doesn\\'t dry.\\n19/09/20, 8:09 pm - Siobhan: The curtains can be made longer with link\\nIn Ireland there a bathmats that you put on the floor they are thicker and a lot more absorbant than towels\\n19/09/20, 8:10 pm - Aman: No the length can\\'t be increased\\n19/09/20, 8:10 pm - Aman: <Media omitted>\\n19/09/20, 8:11 pm - Aman: <Media omitted>\\n19/09/20, 8:11 pm - Aman: This is a huge gap\\n19/09/20, 8:12 pm - Siobhan: Yes I know the links go on the top and increase the length\\n19/09/20, 8:17 pm - Jay: <Media omitted>\\n19/09/20, 9:09 pm - Siobhan: Yes Premton and I discussed the door he is replacing the runners that the door slides on so it will slide easily to open and close\\n20/09/20, 3:05 pm - Siobhan: There should be no problem sleeping in the big room because of the crack in the glass while we are waiting for it to be replaced as there is double glazed window\\n20/09/20, 3:12 pm - Mayur: Sure Siobhan\\n20/09/20, 3:12 pm - Siobhan: Don\\'t worry it will be fixed\\n20/09/20, 3:12 pm - Mayur: Please try to get the showers fixed in the rooms soon because as of now we have only one working shower amongst the five of us. 😅\\n20/09/20, 3:15 pm - Aman: Meena is covering all heavy clothes, at night cold air is coming inside. Day is fine. Night is difficult for her.\\n20/09/20, 3:37 pm - Meena: Yes Siobhan..kindly arrange..\\n20/09/20, 4:58 pm - Siobhan: That is already done\\n20/09/20, 5:40 pm - Meena: <Media omitted>\\n20/09/20, 5:40 pm - Meena: <Media omitted>\\n20/09/20, 7:17 pm - Siobhan: As advised we have arranged for the window to be looked at. Is the window closed fully? \\nThere are vents also on the window\\nThey are required to assist with ventilation which is very important in Ireland due to our damp weather in if too much heat or not enough heat is used along with the condensation we get then dampness occurs.\\nYou will sometimes find condensation(wet) on glass inside bedroom windows in winter\\nThis is totally normal here it is due to our climate\\nIt is important to open windows daily for a little while to allow the exchange of the air in our climate throughout the year otherwise it results in dampness\\nThe blinds are also a form of heat control for us as when closed they are a form of insulation\\nWhen investing in bedding the duvets (quilts) come in a thing called togs the higher the tog the warmer they are.\\n20/09/20, 7:20 pm - Siobhan: https://images.app.goo.gl/KEvtgFgg4qCg6FZR9\\n20/09/20, 7:34 pm - Siobhan: The above explains duvet togs\\nUsually in our house I use @9 tog from @ mid March to end of October\\nThen I use a @ 13tog duvet for the winter. If the weather is very cold I use both together. \\nWe also use fleece blankets / throws both on the bed in winter and also over us watching TV in winter as it can be cold. I feel the cold even though I have lived here all my life. The weather here really never gets awfully warm and the duvet is used most of the summer unless on a very rare warm night and a sheet may be enough. To be honest I can\\'t remember it being that hot for a few summers. \\nThe temperature never really gets really hot or extremely cold in comparison to other countries. \\nSnow fall is usually very light it may last a week or so or some winter we have none. The  same today was a roasting day in Ireland the early 20s is hot here.\\nFrom March onwards until mid October usually we would not use any form of heating. The heating usage increase and December and January is usually the coldest.\\nI will send you on pictures of what I talk about so it will be easier than my description\\n20/09/20, 7:37 pm - Siobhan: https://www.dunnesstores.com/p/fleece-throw/7562770\\n20/09/20, 7:37 pm - Siobhan: The above is an example of the fleece throws they are lovely and soft\\n20/09/20, 7:38 pm - Siobhan: https://www.dunnesstores.com/c/home/bathroom/bath-mats\\n20/09/20, 7:40 pm - Siobhan: The above are bath mats\\nYou place them outside your bath or shower and you stand on the when you are drying your self\\nSo that you are not standing on the wet floor they also soak up some water from Bath or shower\\n20/09/20, 7:42 pm - Siobhan: https://www.ebay.ie/b/Fleece-Bed-Blankets-with-Sleeves/175750/bn_7030239954\\n20/09/20, 7:47 pm - Siobhan: Warmies Light Brown Owl, 820 g https://www.amazon.co.uk/dp/B0087D6VNC/ref=cm_sw_r_wa_apa_i_io6zFb9C8GC55\\n20/09/20, 7:50 pm - Siobhan: This will contain a beanbag you put in the beanbag to the microwave for the correct time then put it inside the owl as the beanbag is really hot\\nYou put in the bed\\n\\nThere are also things called hot water bottles\\nThey are rubber and you fill them with hot water and place them in the bed and put the bedclothes over it\\n\\nBefore you get into bed you take the hot water bottle out of the bed incase it would leak or burst and cause burns\\n20/09/20, 7:56 pm - Siobhan: Penneys is usually the cheapest with clothes they sell fleece pyjamas and onesies and fleece socks.\\nThey also sell duvets warmers etc\\nIt is very popular in Ireland and it is known as Primark in the UK \\nThey sell lots of modern clothes very cheap \\nDunnes stores is usually a little dearer but the quality is usually better \\nGuineys also good for bedding \\nEven with heat on it can be cold at night. \\nBecause of the coast it keeps things cooler\\n20/09/20, 8:10 pm - Mayur: Thanks Siobhan for the guidelines. We will need sometime to understand all of this 🙂\\n20/09/20, 8:44 pm - Siobhan: I hope you can understand my longwinded message\\n20/09/20, 8:46 pm - Mayur: Yes yes, thank you for all these handy tips 😄\\n20/09/20, 8:46 pm - Aman: No we appreciate it. We are new and we need such detailed picture. We really appreciate it.\\n20/09/20, 8:46 pm - Mayur: Yes exactly\\n20/09/20, 8:47 pm - Siobhan: Just always contact me\\n20/09/20, 8:48 pm - Shaival: Yeah thank you Siobhan!! This was very helpful.\\n20/09/20, 8:53 pm - Meena: Thanks alot Siobhan..😌\\n21/09/20, 4:57 pm - Aman: <Media omitted>\\n21/09/20, 4:59 pm - Aman: Hi Siobhan we have signed the agreement\\n21/09/20, 4:59 pm - Aman: Could you please\\n21/09/20, 5:00 pm - Aman: Do the needful from your end. We need it for our college id by 26th.\\n21/09/20, 5:02 pm - Jay: Hi Siobhan could you also provide us with rent receipt we have paid as we need to submit to our banks.\\n21/09/20, 5:15 pm - Siobhan: I am unsure what the do the needful means?\\n21/09/20, 5:16 pm - Aman: As in...u might have to sign or stamp\\n21/09/20, 5:16 pm - Aman: We are not sure about the rules here.\\n21/09/20, 5:16 pm - Aman: In Ireland\\n21/09/20, 5:19 pm - Siobhan: I can send an individual confirmation email to confirm receipt of the security deposit and rent for September\\nIf you send me your individual emails I will send on to you\\n21/09/20, 5:36 pm - Aman: Okay\\n21/09/20, 5:36 pm - Aman: aman9911103424@gmail.com\\n21/09/20, 5:37 pm - Mayur: sawantmayur47@gmail.com\\n21/09/20, 5:37 pm - Meena: meenzinbox@gmail.com\\n21/09/20, 5:39 pm - Siobhan: Perfect will do this evening\\n21/09/20, 5:40 pm - Mayur: Thanks 😃\\n21/09/20, 5:40 pm - Siobhan: 👍\\n21/09/20, 5:40 pm - Mayur: Btw Siobhan, did a guy named Sandeep used to live here before us?\\n21/09/20, 5:47 pm - Jay: raopjay@gmail.com\\n21/09/20, 5:49 pm - Gunjan (Griffith College): gunjank333@gmail.com\\n21/09/20, 5:50 pm - Siobhan: I will send 1 email regarding the security deposit and name all 6 people \\nI will send 2nd email regarding the rent for 5 persons and name all 5 people\\nIs that OK? \\nThen when bank account is set up for electronic transfer you will have the record on your account of each payment\\nDoe\\n21/09/20, 5:50 pm - Siobhan: Last line error\\n21/09/20, 5:54 pm - Shaival: Okay\\nmehtashaival27@gmail.com\\n21/09/20, 5:54 pm - Siobhan: Yes no problem\\n21/09/20, 6:04 pm - Jay: <Media omitted>\\n21/09/20, 6:10 pm - Siobhan: They just require either regluing or removing it is caused by the reaction to the heat. I will find out which is the best option\\n21/09/20, 6:21 pm - Jay: Yeah 👍\\n21/09/20, 6:39 pm - Siobhan: It should not take long to do I will speak to Premton he will be in touch about the window when he comes to ye and I will advise him of the doors\\n21/09/20, 6:49 pm - Siobhan: Email gone for receipt of your security deposit\\n21/09/20, 7:01 pm - Siobhan: Email gone re rent September 2020\\n21/09/20, 9:12 pm - Meena: Received it Siobhan. thank you😌\\n21/09/20, 9:19 pm - Gunjan (Griffith College): Received thankyou\\n21/09/20, 9:20 pm - Siobhan: 👍\\n23/09/20, 11:00 am - Aman: <Media omitted>\\n23/09/20, 11:00 am - Aman: Siobhan can you please recharge it.\\n23/09/20, 11:03 am - Meena: Hello Siobhan..kind reminder about the window in room number 3 and showers in room 1 &3\\n23/09/20, 11:07 am - Siobhan: Yes Premton was told to proceed with the work after calling to ye on Saturday I will contact him again to contact you with a tume\\nAs ye are self isolating ye will need to stay in a different part of the apartment while they work\\n23/09/20, 11:11 am - Meena: Okay Siobhan ..thank you..😊\\nStay in different part of the appartment completely or different room n appartment for a while?? If different appartment may I know where?\\n23/09/20, 11:11 am - Siobhan: The electricity is to be paid by yourselves. \\nI did put on the credit that I provided to Aman as a good will gesture. \\nI sent on the account details to Aman and next week once you get a sim card then ye can put your own names and numbers on the account \\nYou Will be able to buy credit in the shop \\nIf you want I can get the credit for ye if you tell me how much and ye can transfer the amount to me if that is of help\\nI would send you on the code and ye would type it in to the meter\\n23/09/20, 11:12 am - Aman: We will pay u the amount\\n23/09/20, 11:15 am - Shaival: Siobhan, credit of 50 euros and we will pay the amount. Thanks!\\n23/09/20, 11:17 am - Meena: Can u kindly keep us posted about this..our online classes commences on 28th..if our online classes begins it would be difficult for us to change to different appartment!!\\n23/09/20, 1:44 pm - Shaival: Siobhan, our electricity credit is just 3.2 Euros, so please make 50 euros credit today itself.\\n23/09/20, 1:45 pm - Siobhan: Not in a different apartment just not to be in the same room as Premton\\n23/09/20, 1:45 pm - Siobhan: I will top up I a few minutes and will send you the code\\n23/09/20, 1:46 pm - Shaival: Okay. Thanks!!\\n23/09/20, 1:49 pm - Siobhan: I messaged Premton this morning to find out when he is coming to ye\\n23/09/20, 1:55 pm - Siobhan: <Media omitted>\\n23/09/20, 1:55 pm - Siobhan: <Media omitted>\\n23/09/20, 1:57 pm - Siobhan: * 21667 24372 15442 67593 #\\n23/09/20, 1:57 pm - Siobhan: The above is what you type in to the meter\\n23/09/20, 2:13 pm - Aman: 33892 56349 25968 21289\\n23/09/20, 2:45 pm - Siobhan: Did it top up ok\\n23/09/20, 2:45 pm - Aman: Yes\\n23/09/20, 2:45 pm - Aman: We did\\n23/09/20, 2:45 pm - Siobhan: Thank you\\n23/09/20, 3:36 pm - Meena: Thank you siobhan\\n23/09/20, 4:03 pm - Siobhan: I hope you all understand that you can of course be in your apartment just not the room where Premton working\\nLet me know if credit runs low again before the account gets transferred to ye\\n23/09/20, 4:04 pm - Mayur: Sure Siobhan, we will stay in another room while the work would be in progress\\n23/09/20, 4:13 pm - Shaival: Yeah sure Siobhan and thanks you 😇\\n23/09/20, 4:16 pm - Siobhan: 👍\\n'"
      ]
     },
     "execution_count": 124,
     "metadata": {},
     "output_type": "execute_result"
    }
   ],
   "source": [
    "file = open(\"WhatsApp Chat with Edenhall ❤️.txt\",mode=\"r\",encoding=\"utf8\")\n",
    "chats = file.read()\n",
    "file.close()\n",
    "chats"
   ]
  },
  {
   "cell_type": "markdown",
   "metadata": {},
   "source": [
    "### Total Messages in the group"
   ]
  },
  {
   "cell_type": "code",
   "execution_count": 125,
   "metadata": {},
   "outputs": [],
   "source": [
    "pattern = re.compile('\\d:\\d\\d\\s(?:AM|PM|am|pm)\\s-\\s([a-zA-Z0-9]+\\s?[a-zA-Z0-9]):')\n",
    "messengers = re.findall(pattern,chats)"
   ]
  },
  {
   "cell_type": "code",
   "execution_count": 126,
   "metadata": {},
   "outputs": [
    {
     "data": {
      "text/plain": [
       "411"
      ]
     },
     "execution_count": 126,
     "metadata": {},
     "output_type": "execute_result"
    }
   ],
   "source": [
    "len(messengers)"
   ]
  },
  {
   "cell_type": "markdown",
   "metadata": {},
   "source": [
    "### There are 411 messages in the group"
   ]
  },
  {
   "cell_type": "markdown",
   "metadata": {},
   "source": [
    "### Members of the group"
   ]
  },
  {
   "cell_type": "code",
   "execution_count": 127,
   "metadata": {},
   "outputs": [
    {
     "data": {
      "text/plain": [
       "7"
      ]
     },
     "execution_count": 127,
     "metadata": {},
     "output_type": "execute_result"
    }
   ],
   "source": [
    "members = list(set(messengers))\n",
    "len(members)"
   ]
  },
  {
   "cell_type": "code",
   "execution_count": 128,
   "metadata": {},
   "outputs": [],
   "source": [
    "messageCount = []\n",
    "for member in members:\n",
    "    messageCount.append(messengers.count(member))"
   ]
  },
  {
   "cell_type": "code",
   "execution_count": 129,
   "metadata": {},
   "outputs": [
    {
     "data": {
      "text/plain": [
       "[34, 53, 165, 44, 39, 66, 10]"
      ]
     },
     "execution_count": 129,
     "metadata": {},
     "output_type": "execute_result"
    }
   ],
   "source": [
    "messageCount"
   ]
  },
  {
   "cell_type": "markdown",
   "metadata": {},
   "source": [
    "### Creating dataframe using multiple lists"
   ]
  },
  {
   "cell_type": "markdown",
   "metadata": {},
   "source": [
    "### ZIP the lists of message count and members to get a list of tuples"
   ]
  },
  {
   "cell_type": "code",
   "execution_count": 130,
   "metadata": {},
   "outputs": [
    {
     "data": {
      "text/plain": [
       "[('Shaival', 34),\n",
       " ('Meena', 53),\n",
       " ('Siobhan', 165),\n",
       " ('Mayur', 44),\n",
       " ('Jay', 39),\n",
       " ('Aman', 66),\n",
       " ('Shankare', 10)]"
      ]
     },
     "execution_count": 130,
     "metadata": {},
     "output_type": "execute_result"
    }
   ],
   "source": [
    "zippedList = list(zip(members,messageCount))\n",
    "zippedList"
   ]
  },
  {
   "cell_type": "code",
   "execution_count": 131,
   "metadata": {},
   "outputs": [
    {
     "data": {
      "text/html": [
       "<div>\n",
       "<style scoped>\n",
       "    .dataframe tbody tr th:only-of-type {\n",
       "        vertical-align: middle;\n",
       "    }\n",
       "\n",
       "    .dataframe tbody tr th {\n",
       "        vertical-align: top;\n",
       "    }\n",
       "\n",
       "    .dataframe thead th {\n",
       "        text-align: right;\n",
       "    }\n",
       "</style>\n",
       "<table border=\"1\" class=\"dataframe\">\n",
       "  <thead>\n",
       "    <tr style=\"text-align: right;\">\n",
       "      <th></th>\n",
       "      <th>member</th>\n",
       "      <th>message_count</th>\n",
       "    </tr>\n",
       "  </thead>\n",
       "  <tbody>\n",
       "    <tr>\n",
       "      <th>0</th>\n",
       "      <td>Shaival</td>\n",
       "      <td>34</td>\n",
       "    </tr>\n",
       "    <tr>\n",
       "      <th>1</th>\n",
       "      <td>Meena</td>\n",
       "      <td>53</td>\n",
       "    </tr>\n",
       "    <tr>\n",
       "      <th>2</th>\n",
       "      <td>Siobhan</td>\n",
       "      <td>165</td>\n",
       "    </tr>\n",
       "    <tr>\n",
       "      <th>3</th>\n",
       "      <td>Mayur</td>\n",
       "      <td>44</td>\n",
       "    </tr>\n",
       "    <tr>\n",
       "      <th>4</th>\n",
       "      <td>Jay</td>\n",
       "      <td>39</td>\n",
       "    </tr>\n",
       "    <tr>\n",
       "      <th>5</th>\n",
       "      <td>Aman</td>\n",
       "      <td>66</td>\n",
       "    </tr>\n",
       "    <tr>\n",
       "      <th>6</th>\n",
       "      <td>Shankare</td>\n",
       "      <td>10</td>\n",
       "    </tr>\n",
       "  </tbody>\n",
       "</table>\n",
       "</div>"
      ],
      "text/plain": [
       "     member  message_count\n",
       "0   Shaival             34\n",
       "1     Meena             53\n",
       "2   Siobhan            165\n",
       "3     Mayur             44\n",
       "4       Jay             39\n",
       "5      Aman             66\n",
       "6  Shankare             10"
      ]
     },
     "execution_count": 131,
     "metadata": {},
     "output_type": "execute_result"
    }
   ],
   "source": [
    "messageDf = pd.DataFrame(data = zippedList, columns = ['member','message_count'], index=None)\n",
    "messageDf"
   ]
  },
  {
   "cell_type": "code",
   "execution_count": 13,
   "metadata": {},
   "outputs": [
    {
     "data": {
      "text/plain": [
       "<matplotlib.axes._subplots.AxesSubplot at 0x7f991bc57f40>"
      ]
     },
     "execution_count": 13,
     "metadata": {},
     "output_type": "execute_result"
    },
    {
     "data": {
      "image/png": "[encoded data removed]",
      "text/plain": [
       "<Figure size 432x288 with 1 Axes>"
      ]
     },
     "metadata": {
      "needs_background": "light"
     },
     "output_type": "display_data"
    }
   ],
   "source": [
    "sns.barplot(x = members, y = messageCount, palette='Blues')"
   ]
  },
  {
   "cell_type": "code",
   "execution_count": 144,
   "metadata": {},
   "outputs": [
    {
     "data": {
      "application/vnd.plotly.v1+json": {
       "config": {
        "plotlyServerURL": "https://plot.ly"
       },
       "data": [
        {
         "domain": {
          "x": [
           0,
           1
          ],
          "y": [
           0,
           1
          ]
         },
         "hovertemplate": "member=%{label}<br>message_count=%{value}<extra></extra>",
         "labels": [
          "Shaival",
          "Meena",
          "Siobhan",
          "Mayur",
          "Jay",
          "Aman",
          "Shankare"
         ],
         "legendgroup": "",
         "name": "",
         "showlegend": true,
         "type": "pie",
         "values": [
          34,
          53,
          165,
          44,
          39,
          66,
          10
         ]
        }
       ],
       "layout": {
        "legend": {
         "tracegroupgap": 0
        },
        "margin": {
         "t": 60
        },
        "template": {
         "data": {
          "bar": [
           {
            "error_x": {
             "color": "#2a3f5f"
            },
            "error_y": {
             "color": "#2a3f5f"
            },
            "marker": {
             "line": {
              "color": "#E5ECF6",
              "width": 0.5
             }
            },
            "type": "bar"
           }
          ],
          "barpolar": [
           {
            "marker": {
             "line": {
              "color": "#E5ECF6",
              "width": 0.5
             }
            },
            "type": "barpolar"
           }
          ],
          "carpet": [
           {
            "aaxis": {
             "endlinecolor": "#2a3f5f",
             "gridcolor": "white",
             "linecolor": "white",
             "minorgridcolor": "white",
             "startlinecolor": "#2a3f5f"
            },
            "baxis": {
             "endlinecolor": "#2a3f5f",
             "gridcolor": "white",
             "linecolor": "white",
             "minorgridcolor": "white",
             "startlinecolor": "#2a3f5f"
            },
            "type": "carpet"
           }
          ],
          "choropleth": [
           {
            "colorbar": {
             "outlinewidth": 0,
             "ticks": ""
            },
            "type": "choropleth"
           }
          ],
          "contour": [
           {
            "colorbar": {
             "outlinewidth": 0,
             "ticks": ""
            },
            "colorscale": [
             [
              0,
              "#0d0887"
             ],
             [
              0.1111111111111111,
              "#46039f"
             ],
             [
              0.2222222222222222,
              "#7201a8"
             ],
             [
              0.3333333333333333,
              "#9c179e"
             ],
             [
              0.4444444444444444,
              "#bd3786"
             ],
             [
              0.5555555555555556,
              "#d8576b"
             ],
             [
              0.6666666666666666,
              "#ed7953"
             ],
             [
              0.7777777777777778,
              "#fb9f3a"
             ],
             [
              0.8888888888888888,
              "#fdca26"
             ],
             [
              1,
              "#f0f921"
             ]
            ],
            "type": "contour"
           }
          ],
          "contourcarpet": [
           {
            "colorbar": {
             "outlinewidth": 0,
             "ticks": ""
            },
            "type": "contourcarpet"
           }
          ],
          "heatmap": [
           {
            "colorbar": {
             "outlinewidth": 0,
             "ticks": ""
            },
            "colorscale": [
             [
              0,
              "#0d0887"
             ],
             [
              0.1111111111111111,
              "#46039f"
             ],
             [
              0.2222222222222222,
              "#7201a8"
             ],
             [
              0.3333333333333333,
              "#9c179e"
             ],
             [
              0.4444444444444444,
              "#bd3786"
             ],
             [
              0.5555555555555556,
              "#d8576b"
             ],
             [
              0.6666666666666666,
              "#ed7953"
             ],
             [
              0.7777777777777778,
              "#fb9f3a"
             ],
             [
              0.8888888888888888,
              "#fdca26"
             ],
             [
              1,
              "#f0f921"
             ]
            ],
            "type": "heatmap"
           }
          ],
          "heatmapgl": [
           {
            "colorbar": {
             "outlinewidth": 0,
             "ticks": ""
            },
            "colorscale": [
             [
              0,
              "#0d0887"
             ],
             [
              0.1111111111111111,
              "#46039f"
             ],
             [
              0.2222222222222222,
              "#7201a8"
             ],
             [
              0.3333333333333333,
              "#9c179e"
             ],
             [
              0.4444444444444444,
              "#bd3786"
             ],
             [
              0.5555555555555556,
              "#d8576b"
             ],
             [
              0.6666666666666666,
              "#ed7953"
             ],
             [
              0.7777777777777778,
              "#fb9f3a"
             ],
             [
              0.8888888888888888,
              "#fdca26"
             ],
             [
              1,
              "#f0f921"
             ]
            ],
            "type": "heatmapgl"
           }
          ],
          "histogram": [
           {
            "marker": {
             "colorbar": {
              "outlinewidth": 0,
              "ticks": ""
             }
            },
            "type": "histogram"
           }
          ],
          "histogram2d": [
           {
            "colorbar": {
             "outlinewidth": 0,
             "ticks": ""
            },
            "colorscale": [
             [
              0,
              "#0d0887"
             ],
             [
              0.1111111111111111,
              "#46039f"
             ],
             [
              0.2222222222222222,
              "#7201a8"
             ],
             [
              0.3333333333333333,
              "#9c179e"
             ],
             [
              0.4444444444444444,
              "#bd3786"
             ],
             [
              0.5555555555555556,
              "#d8576b"
             ],
             [
              0.6666666666666666,
              "#ed7953"
             ],
             [
              0.7777777777777778,
              "#fb9f3a"
             ],
             [
              0.8888888888888888,
              "#fdca26"
             ],
             [
              1,
              "#f0f921"
             ]
            ],
            "type": "histogram2d"
           }
          ],
          "histogram2dcontour": [
           {
            "colorbar": {
             "outlinewidth": 0,
             "ticks": ""
            },
            "colorscale": [
             [
              0,
              "#0d0887"
             ],
             [
              0.1111111111111111,
              "#46039f"
             ],
             [
              0.2222222222222222,
              "#7201a8"
             ],
             [
              0.3333333333333333,
              "#9c179e"
             ],
             [
              0.4444444444444444,
              "#bd3786"
             ],
             [
              0.5555555555555556,
              "#d8576b"
             ],
             [
              0.6666666666666666,
              "#ed7953"
             ],
             [
              0.7777777777777778,
              "#fb9f3a"
             ],
             [
              0.8888888888888888,
              "#fdca26"
             ],
             [
              1,
              "#f0f921"
             ]
            ],
            "type": "histogram2dcontour"
           }
          ],
          "mesh3d": [
           {
            "colorbar": {
             "outlinewidth": 0,
             "ticks": ""
            },
            "type": "mesh3d"
           }
          ],
          "parcoords": [
           {
            "line": {
             "colorbar": {
              "outlinewidth": 0,
              "ticks": ""
             }
            },
            "type": "parcoords"
           }
          ],
          "pie": [
           {
            "automargin": true,
            "type": "pie"
           }
          ],
          "scatter": [
           {
            "marker": {
             "colorbar": {
              "outlinewidth": 0,
              "ticks": ""
             }
            },
            "type": "scatter"
           }
          ],
          "scatter3d": [
           {
            "line": {
             "colorbar": {
              "outlinewidth": 0,
              "ticks": ""
             }
            },
            "marker": {
             "colorbar": {
              "outlinewidth": 0,
              "ticks": ""
             }
            },
            "type": "scatter3d"
           }
          ],
          "scattercarpet": [
           {
            "marker": {
             "colorbar": {
              "outlinewidth": 0,
              "ticks": ""
             }
            },
            "type": "scattercarpet"
           }
          ],
          "scattergeo": [
           {
            "marker": {
             "colorbar": {
              "outlinewidth": 0,
              "ticks": ""
             }
            },
            "type": "scattergeo"
           }
          ],
          "scattergl": [
           {
            "marker": {
             "colorbar": {
              "outlinewidth": 0,
              "ticks": ""
             }
            },
            "type": "scattergl"
           }
          ],
          "scattermapbox": [
           {
            "marker": {
             "colorbar": {
              "outlinewidth": 0,
              "ticks": ""
             }
            },
            "type": "scattermapbox"
           }
          ],
          "scatterpolar": [
           {
            "marker": {
             "colorbar": {
              "outlinewidth": 0,
              "ticks": ""
             }
            },
            "type": "scatterpolar"
           }
          ],
          "scatterpolargl": [
           {
            "marker": {
             "colorbar": {
              "outlinewidth": 0,
              "ticks": ""
             }
            },
            "type": "scatterpolargl"
           }
          ],
          "scatterternary": [
           {
            "marker": {
             "colorbar": {
              "outlinewidth": 0,
              "ticks": ""
             }
            },
            "type": "scatterternary"
           }
          ],
          "surface": [
           {
            "colorbar": {
             "outlinewidth": 0,
             "ticks": ""
            },
            "colorscale": [
             [
              0,
              "#0d0887"
             ],
             [
              0.1111111111111111,
              "#46039f"
             ],
             [
              0.2222222222222222,
              "#7201a8"
             ],
             [
              0.3333333333333333,
              "#9c179e"
             ],
             [
              0.4444444444444444,
              "#bd3786"
             ],
             [
              0.5555555555555556,
              "#d8576b"
             ],
             [
              0.6666666666666666,
              "#ed7953"
             ],
             [
              0.7777777777777778,
              "#fb9f3a"
             ],
             [
              0.8888888888888888,
              "#fdca26"
             ],
             [
              1,
              "#f0f921"
             ]
            ],
            "type": "surface"
           }
          ],
          "table": [
           {
            "cells": {
             "fill": {
              "color": "#EBF0F8"
             },
             "line": {
              "color": "white"
             }
            },
            "header": {
             "fill": {
              "color": "#C8D4E3"
             },
             "line": {
              "color": "white"
             }
            },
            "type": "table"
           }
          ]
         },
         "layout": {
          "annotationdefaults": {
           "arrowcolor": "#2a3f5f",
           "arrowhead": 0,
           "arrowwidth": 1
          },
          "coloraxis": {
           "colorbar": {
            "outlinewidth": 0,
            "ticks": ""
           }
          },
          "colorscale": {
           "diverging": [
            [
             0,
             "#8e0152"
            ],
            [
             0.1,
             "#c51b7d"
            ],
            [
             0.2,
             "#de77ae"
            ],
            [
             0.3,
             "#f1b6da"
            ],
            [
             0.4,
             "#fde0ef"
            ],
            [
             0.5,
             "#f7f7f7"
            ],
            [
             0.6,
             "#e6f5d0"
            ],
            [
             0.7,
             "#b8e186"
            ],
            [
             0.8,
             "#7fbc41"
            ],
            [
             0.9,
             "#4d9221"
            ],
            [
             1,
             "#276419"
            ]
           ],
           "sequential": [
            [
             0,
             "#0d0887"
            ],
            [
             0.1111111111111111,
             "#46039f"
            ],
            [
             0.2222222222222222,
             "#7201a8"
            ],
            [
             0.3333333333333333,
             "#9c179e"
            ],
            [
             0.4444444444444444,
             "#bd3786"
            ],
            [
             0.5555555555555556,
             "#d8576b"
            ],
            [
             0.6666666666666666,
             "#ed7953"
            ],
            [
             0.7777777777777778,
             "#fb9f3a"
            ],
            [
             0.8888888888888888,
             "#fdca26"
            ],
            [
             1,
             "#f0f921"
            ]
           ],
           "sequentialminus": [
            [
             0,
             "#0d0887"
            ],
            [
             0.1111111111111111,
             "#46039f"
            ],
            [
             0.2222222222222222,
             "#7201a8"
            ],
            [
             0.3333333333333333,
             "#9c179e"
            ],
            [
             0.4444444444444444,
             "#bd3786"
            ],
            [
             0.5555555555555556,
             "#d8576b"
            ],
            [
             0.6666666666666666,
             "#ed7953"
            ],
            [
             0.7777777777777778,
             "#fb9f3a"
            ],
            [
             0.8888888888888888,
             "#fdca26"
            ],
            [
             1,
             "#f0f921"
            ]
           ]
          },
          "colorway": [
           "#636efa",
           "#EF553B",
           "#00cc96",
           "#ab63fa",
           "#FFA15A",
           "#19d3f3",
           "#FF6692",
           "#B6E880",
           "#FF97FF",
           "#FECB52"
          ],
          "font": {
           "color": "#2a3f5f"
          },
          "geo": {
           "bgcolor": "white",
           "lakecolor": "white",
           "landcolor": "#E5ECF6",
           "showlakes": true,
           "showland": true,
           "subunitcolor": "white"
          },
          "hoverlabel": {
           "align": "left"
          },
          "hovermode": "closest",
          "mapbox": {
           "style": "light"
          },
          "paper_bgcolor": "white",
          "plot_bgcolor": "#E5ECF6",
          "polar": {
           "angularaxis": {
            "gridcolor": "white",
            "linecolor": "white",
            "ticks": ""
           },
           "bgcolor": "#E5ECF6",
           "radialaxis": {
            "gridcolor": "white",
            "linecolor": "white",
            "ticks": ""
           }
          },
          "scene": {
           "xaxis": {
            "backgroundcolor": "#E5ECF6",
            "gridcolor": "white",
            "gridwidth": 2,
            "linecolor": "white",
            "showbackground": true,
            "ticks": "",
            "zerolinecolor": "white"
           },
           "yaxis": {
            "backgroundcolor": "#E5ECF6",
            "gridcolor": "white",
            "gridwidth": 2,
            "linecolor": "white",
            "showbackground": true,
            "ticks": "",
            "zerolinecolor": "white"
           },
           "zaxis": {
            "backgroundcolor": "#E5ECF6",
            "gridcolor": "white",
            "gridwidth": 2,
            "linecolor": "white",
            "showbackground": true,
            "ticks": "",
            "zerolinecolor": "white"
           }
          },
          "shapedefaults": {
           "line": {
            "color": "#2a3f5f"
           }
          },
          "ternary": {
           "aaxis": {
            "gridcolor": "white",
            "linecolor": "white",
            "ticks": ""
           },
           "baxis": {
            "gridcolor": "white",
            "linecolor": "white",
            "ticks": ""
           },
           "bgcolor": "#E5ECF6",
           "caxis": {
            "gridcolor": "white",
            "linecolor": "white",
            "ticks": ""
           }
          },
          "title": {
           "x": 0.05
          },
          "xaxis": {
           "automargin": true,
           "gridcolor": "white",
           "linecolor": "white",
           "ticks": "",
           "title": {
            "standoff": 15
           },
           "zerolinecolor": "white",
           "zerolinewidth": 2
          },
          "yaxis": {
           "automargin": true,
           "gridcolor": "white",
           "linecolor": "white",
           "ticks": "",
           "title": {
            "standoff": 15
           },
           "zerolinecolor": "white",
           "zerolinewidth": 2
          }
         }
        }
       }
      },
      "text/html": [
       "<div>                            <div id=\"184804bf-922f-442c-acdb-ed92c734fc5e\" class=\"plotly-graph-div\" style=\"height:525px; width:100%;\"></div>            <script type=\"text/javascript\">                require([\"plotly\"], function(Plotly) {                    window.PLOTLYENV=window.PLOTLYENV || {};                                    if (document.getElementById(\"184804bf-922f-442c-acdb-ed92c734fc5e\")) {                    Plotly.newPlot(                        \"184804bf-922f-442c-acdb-ed92c734fc5e\",                        [{\"domain\": {\"x\": [0.0, 1.0], \"y\": [0.0, 1.0]}, \"hovertemplate\": \"member=%{label}<br>message_count=%{value}<extra></extra>\", \"labels\": [\"Shaival\", \"Meena\", \"Siobhan\", \"Mayur\", \"Jay\", \"Aman\", \"Shankare\"], \"legendgroup\": \"\", \"name\": \"\", \"showlegend\": true, \"type\": \"pie\", \"values\": [34, 53, 165, 44, 39, 66, 10]}],                        {\"legend\": {\"tracegroupgap\": 0}, \"margin\": {\"t\": 60}, \"template\": {\"data\": {\"bar\": [{\"error_x\": {\"color\": \"#2a3f5f\"}, \"error_y\": {\"color\": \"#2a3f5f\"}, \"marker\": {\"line\": {\"color\": \"#E5ECF6\", \"width\": 0.5}}, \"type\": \"bar\"}], \"barpolar\": [{\"marker\": {\"line\": {\"color\": \"#E5ECF6\", \"width\": 0.5}}, \"type\": \"barpolar\"}], \"carpet\": [{\"aaxis\": {\"endlinecolor\": \"#2a3f5f\", \"gridcolor\": \"white\", \"linecolor\": \"white\", \"minorgridcolor\": \"white\", \"startlinecolor\": \"#2a3f5f\"}, \"baxis\": {\"endlinecolor\": \"#2a3f5f\", \"gridcolor\": \"white\", \"linecolor\": \"white\", \"minorgridcolor\": \"white\", \"startlinecolor\": \"#2a3f5f\"}, \"type\": \"carpet\"}], \"choropleth\": [{\"colorbar\": {\"outlinewidth\": 0, \"ticks\": \"\"}, \"type\": \"choropleth\"}], \"contour\": [{\"colorbar\": {\"outlinewidth\": 0, \"ticks\": \"\"}, \"colorscale\": [[0.0, \"#0d0887\"], [0.1111111111111111, \"#46039f\"], [0.2222222222222222, \"#7201a8\"], [0.3333333333333333, \"#9c179e\"], [0.4444444444444444, \"#bd3786\"], [0.5555555555555556, \"#d8576b\"], [0.6666666666666666, \"#ed7953\"], [0.7777777777777778, \"#fb9f3a\"], [0.8888888888888888, \"#fdca26\"], [1.0, \"#f0f921\"]], \"type\": \"contour\"}], \"contourcarpet\": [{\"colorbar\": {\"outlinewidth\": 0, \"ticks\": \"\"}, \"type\": \"contourcarpet\"}], \"heatmap\": [{\"colorbar\": {\"outlinewidth\": 0, \"ticks\": \"\"}, \"colorscale\": [[0.0, \"#0d0887\"], [0.1111111111111111, \"#46039f\"], [0.2222222222222222, \"#7201a8\"], [0.3333333333333333, \"#9c179e\"], [0.4444444444444444, \"#bd3786\"], [0.5555555555555556, \"#d8576b\"], [0.6666666666666666, \"#ed7953\"], [0.7777777777777778, \"#fb9f3a\"], [0.8888888888888888, \"#fdca26\"], [1.0, \"#f0f921\"]], \"type\": \"heatmap\"}], \"heatmapgl\": [{\"colorbar\": {\"outlinewidth\": 0, \"ticks\": \"\"}, \"colorscale\": [[0.0, \"#0d0887\"], [0.1111111111111111, \"#46039f\"], [0.2222222222222222, \"#7201a8\"], [0.3333333333333333, \"#9c179e\"], [0.4444444444444444, \"#bd3786\"], [0.5555555555555556, \"#d8576b\"], [0.6666666666666666, \"#ed7953\"], [0.7777777777777778, \"#fb9f3a\"], [0.8888888888888888, \"#fdca26\"], [1.0, \"#f0f921\"]], \"type\": \"heatmapgl\"}], \"histogram\": [{\"marker\": {\"colorbar\": {\"outlinewidth\": 0, \"ticks\": \"\"}}, \"type\": \"histogram\"}], \"histogram2d\": [{\"colorbar\": {\"outlinewidth\": 0, \"ticks\": \"\"}, \"colorscale\": [[0.0, \"#0d0887\"], [0.1111111111111111, \"#46039f\"], [0.2222222222222222, \"#7201a8\"], [0.3333333333333333, \"#9c179e\"], [0.4444444444444444, \"#bd3786\"], [0.5555555555555556, \"#d8576b\"], [0.6666666666666666, \"#ed7953\"], [0.7777777777777778, \"#fb9f3a\"], [0.8888888888888888, \"#fdca26\"], [1.0, \"#f0f921\"]], \"type\": \"histogram2d\"}], \"histogram2dcontour\": [{\"colorbar\": {\"outlinewidth\": 0, \"ticks\": \"\"}, \"colorscale\": [[0.0, \"#0d0887\"], [0.1111111111111111, \"#46039f\"], [0.2222222222222222, \"#7201a8\"], [0.3333333333333333, \"#9c179e\"], [0.4444444444444444, \"#bd3786\"], [0.5555555555555556, \"#d8576b\"], [0.6666666666666666, \"#ed7953\"], [0.7777777777777778, \"#fb9f3a\"], [0.8888888888888888, \"#fdca26\"], [1.0, \"#f0f921\"]], \"type\": \"histogram2dcontour\"}], \"mesh3d\": [{\"colorbar\": {\"outlinewidth\": 0, \"ticks\": \"\"}, \"type\": \"mesh3d\"}], \"parcoords\": [{\"line\": {\"colorbar\": {\"outlinewidth\": 0, \"ticks\": \"\"}}, \"type\": \"parcoords\"}], \"pie\": [{\"automargin\": true, \"type\": \"pie\"}], \"scatter\": [{\"marker\": {\"colorbar\": {\"outlinewidth\": 0, \"ticks\": \"\"}}, \"type\": \"scatter\"}], \"scatter3d\": [{\"line\": {\"colorbar\": {\"outlinewidth\": 0, \"ticks\": \"\"}}, \"marker\": {\"colorbar\": {\"outlinewidth\": 0, \"ticks\": \"\"}}, \"type\": \"scatter3d\"}], \"scattercarpet\": [{\"marker\": {\"colorbar\": {\"outlinewidth\": 0, \"ticks\": \"\"}}, \"type\": \"scattercarpet\"}], \"scattergeo\": [{\"marker\": {\"colorbar\": {\"outlinewidth\": 0, \"ticks\": \"\"}}, \"type\": \"scattergeo\"}], \"scattergl\": [{\"marker\": {\"colorbar\": {\"outlinewidth\": 0, \"ticks\": \"\"}}, \"type\": \"scattergl\"}], \"scattermapbox\": [{\"marker\": {\"colorbar\": {\"outlinewidth\": 0, \"ticks\": \"\"}}, \"type\": \"scattermapbox\"}], \"scatterpolar\": [{\"marker\": {\"colorbar\": {\"outlinewidth\": 0, \"ticks\": \"\"}}, \"type\": \"scatterpolar\"}], \"scatterpolargl\": [{\"marker\": {\"colorbar\": {\"outlinewidth\": 0, \"ticks\": \"\"}}, \"type\": \"scatterpolargl\"}], \"scatterternary\": [{\"marker\": {\"colorbar\": {\"outlinewidth\": 0, \"ticks\": \"\"}}, \"type\": \"scatterternary\"}], \"surface\": [{\"colorbar\": {\"outlinewidth\": 0, \"ticks\": \"\"}, \"colorscale\": [[0.0, \"#0d0887\"], [0.1111111111111111, \"#46039f\"], [0.2222222222222222, \"#7201a8\"], [0.3333333333333333, \"#9c179e\"], [0.4444444444444444, \"#bd3786\"], [0.5555555555555556, \"#d8576b\"], [0.6666666666666666, \"#ed7953\"], [0.7777777777777778, \"#fb9f3a\"], [0.8888888888888888, \"#fdca26\"], [1.0, \"#f0f921\"]], \"type\": \"surface\"}], \"table\": [{\"cells\": {\"fill\": {\"color\": \"#EBF0F8\"}, \"line\": {\"color\": \"white\"}}, \"header\": {\"fill\": {\"color\": \"#C8D4E3\"}, \"line\": {\"color\": \"white\"}}, \"type\": \"table\"}]}, \"layout\": {\"annotationdefaults\": {\"arrowcolor\": \"#2a3f5f\", \"arrowhead\": 0, \"arrowwidth\": 1}, \"coloraxis\": {\"colorbar\": {\"outlinewidth\": 0, \"ticks\": \"\"}}, \"colorscale\": {\"diverging\": [[0, \"#8e0152\"], [0.1, \"#c51b7d\"], [0.2, \"#de77ae\"], [0.3, \"#f1b6da\"], [0.4, \"#fde0ef\"], [0.5, \"#f7f7f7\"], [0.6, \"#e6f5d0\"], [0.7, \"#b8e186\"], [0.8, \"#7fbc41\"], [0.9, \"#4d9221\"], [1, \"#276419\"]], \"sequential\": [[0.0, \"#0d0887\"], [0.1111111111111111, \"#46039f\"], [0.2222222222222222, \"#7201a8\"], [0.3333333333333333, \"#9c179e\"], [0.4444444444444444, \"#bd3786\"], [0.5555555555555556, \"#d8576b\"], [0.6666666666666666, \"#ed7953\"], [0.7777777777777778, \"#fb9f3a\"], [0.8888888888888888, \"#fdca26\"], [1.0, \"#f0f921\"]], \"sequentialminus\": [[0.0, \"#0d0887\"], [0.1111111111111111, \"#46039f\"], [0.2222222222222222, \"#7201a8\"], [0.3333333333333333, \"#9c179e\"], [0.4444444444444444, \"#bd3786\"], [0.5555555555555556, \"#d8576b\"], [0.6666666666666666, \"#ed7953\"], [0.7777777777777778, \"#fb9f3a\"], [0.8888888888888888, \"#fdca26\"], [1.0, \"#f0f921\"]]}, \"colorway\": [\"#636efa\", \"#EF553B\", \"#00cc96\", \"#ab63fa\", \"#FFA15A\", \"#19d3f3\", \"#FF6692\", \"#B6E880\", \"#FF97FF\", \"#FECB52\"], \"font\": {\"color\": \"#2a3f5f\"}, \"geo\": {\"bgcolor\": \"white\", \"lakecolor\": \"white\", \"landcolor\": \"#E5ECF6\", \"showlakes\": true, \"showland\": true, \"subunitcolor\": \"white\"}, \"hoverlabel\": {\"align\": \"left\"}, \"hovermode\": \"closest\", \"mapbox\": {\"style\": \"light\"}, \"paper_bgcolor\": \"white\", \"plot_bgcolor\": \"#E5ECF6\", \"polar\": {\"angularaxis\": {\"gridcolor\": \"white\", \"linecolor\": \"white\", \"ticks\": \"\"}, \"bgcolor\": \"#E5ECF6\", \"radialaxis\": {\"gridcolor\": \"white\", \"linecolor\": \"white\", \"ticks\": \"\"}}, \"scene\": {\"xaxis\": {\"backgroundcolor\": \"#E5ECF6\", \"gridcolor\": \"white\", \"gridwidth\": 2, \"linecolor\": \"white\", \"showbackground\": true, \"ticks\": \"\", \"zerolinecolor\": \"white\"}, \"yaxis\": {\"backgroundcolor\": \"#E5ECF6\", \"gridcolor\": \"white\", \"gridwidth\": 2, \"linecolor\": \"white\", \"showbackground\": true, \"ticks\": \"\", \"zerolinecolor\": \"white\"}, \"zaxis\": {\"backgroundcolor\": \"#E5ECF6\", \"gridcolor\": \"white\", \"gridwidth\": 2, \"linecolor\": \"white\", \"showbackground\": true, \"ticks\": \"\", \"zerolinecolor\": \"white\"}}, \"shapedefaults\": {\"line\": {\"color\": \"#2a3f5f\"}}, \"ternary\": {\"aaxis\": {\"gridcolor\": \"white\", \"linecolor\": \"white\", \"ticks\": \"\"}, \"baxis\": {\"gridcolor\": \"white\", \"linecolor\": \"white\", \"ticks\": \"\"}, \"bgcolor\": \"#E5ECF6\", \"caxis\": {\"gridcolor\": \"white\", \"linecolor\": \"white\", \"ticks\": \"\"}}, \"title\": {\"x\": 0.05}, \"xaxis\": {\"automargin\": true, \"gridcolor\": \"white\", \"linecolor\": \"white\", \"ticks\": \"\", \"title\": {\"standoff\": 15}, \"zerolinecolor\": \"white\", \"zerolinewidth\": 2}, \"yaxis\": {\"automargin\": true, \"gridcolor\": \"white\", \"linecolor\": \"white\", \"ticks\": \"\", \"title\": {\"standoff\": 15}, \"zerolinecolor\": \"white\", \"zerolinewidth\": 2}}}},                        {\"responsive\": true}                    ).then(function(){\n",
       "                            \n",
       "var gd = document.getElementById('184804bf-922f-442c-acdb-ed92c734fc5e');\n",
       "var x = new MutationObserver(function (mutations, observer) {{\n",
       "        var display = window.getComputedStyle(gd).display;\n",
       "        if (!display || display === 'none') {{\n",
       "            console.log([gd, 'removed!']);\n",
       "            Plotly.purge(gd);\n",
       "            observer.disconnect();\n",
       "        }}\n",
       "}});\n",
       "\n",
       "// Listen for the removal of the full notebook cells\n",
       "var notebookContainer = gd.closest('#notebook-container');\n",
       "if (notebookContainer) {{\n",
       "    x.observe(notebookContainer, {childList: true});\n",
       "}}\n",
       "\n",
       "// Listen for the clearing of the current output cell\n",
       "var outputEl = gd.closest('.output');\n",
       "if (outputEl) {{\n",
       "    x.observe(outputEl, {childList: true});\n",
       "}}\n",
       "\n",
       "                        })                };                });            </script>        </div>"
      ]
     },
     "metadata": {},
     "output_type": "display_data"
    }
   ],
   "source": [
    "import plotly.express as px\n",
    "px.pie(messageDf, names = \"member\", values = \"message_count\")"
   ]
  },
  {
   "cell_type": "markdown",
   "metadata": {},
   "source": [
    "### Dates on which maximum messages were sent"
   ]
  },
  {
   "cell_type": "code",
   "execution_count": 34,
   "metadata": {},
   "outputs": [
    {
     "data": {
      "text/plain": [
       "['24/08/20',\n",
       " '24/08/20',\n",
       " '24/08/20',\n",
       " '24/08/20',\n",
       " '24/08/20',\n",
       " '24/08/20',\n",
       " '24/08/20',\n",
       " '24/08/20',\n",
       " '24/08/20',\n",
       " '24/08/20',\n",
       " '24/08/20',\n",
       " '24/08/20',\n",
       " '24/08/20',\n",
       " '24/08/20',\n",
       " '25/08/20',\n",
       " '25/08/20',\n",
       " '25/08/20',\n",
       " '25/08/20',\n",
       " '25/08/20',\n",
       " '25/08/20',\n",
       " '25/08/20',\n",
       " '25/08/20',\n",
       " '25/08/20',\n",
       " '25/08/20',\n",
       " '25/08/20',\n",
       " '25/08/20',\n",
       " '25/08/20',\n",
       " '25/08/20',\n",
       " '25/08/20',\n",
       " '27/08/20',\n",
       " '27/08/20',\n",
       " '27/08/20',\n",
       " '27/08/20',\n",
       " '27/08/20',\n",
       " '27/08/20',\n",
       " '27/08/20',\n",
       " '27/08/20',\n",
       " '27/08/20',\n",
       " '27/08/20',\n",
       " '27/08/20',\n",
       " '27/08/20',\n",
       " '27/08/20',\n",
       " '27/08/20',\n",
       " '27/08/20',\n",
       " '27/08/20',\n",
       " '27/08/20',\n",
       " '27/08/20',\n",
       " '27/08/20',\n",
       " '28/08/20',\n",
       " '28/08/20',\n",
       " '28/08/20',\n",
       " '29/08/20',\n",
       " '29/08/20',\n",
       " '29/08/20',\n",
       " '29/08/20',\n",
       " '29/08/20',\n",
       " '29/08/20',\n",
       " '29/08/20',\n",
       " '29/08/20',\n",
       " '29/08/20',\n",
       " '29/08/20',\n",
       " '29/08/20',\n",
       " '29/08/20',\n",
       " '30/08/20',\n",
       " '30/08/20',\n",
       " '30/08/20',\n",
       " '30/08/20',\n",
       " '30/08/20',\n",
       " '03/09/20',\n",
       " '03/09/20',\n",
       " '03/09/20',\n",
       " '03/09/20',\n",
       " '03/09/20',\n",
       " '03/09/20',\n",
       " '03/09/20',\n",
       " '04/09/20',\n",
       " '04/09/20',\n",
       " '04/09/20',\n",
       " '05/09/20',\n",
       " '05/09/20',\n",
       " '05/09/20',\n",
       " '05/09/20',\n",
       " '05/09/20',\n",
       " '05/09/20',\n",
       " '05/09/20',\n",
       " '06/09/20',\n",
       " '06/09/20',\n",
       " '06/09/20',\n",
       " '06/09/20',\n",
       " '06/09/20',\n",
       " '06/09/20',\n",
       " '06/09/20',\n",
       " '06/09/20',\n",
       " '06/09/20',\n",
       " '06/09/20',\n",
       " '06/09/20',\n",
       " '06/09/20',\n",
       " '08/09/20',\n",
       " '08/09/20',\n",
       " '08/09/20',\n",
       " '08/09/20',\n",
       " '08/09/20',\n",
       " '08/09/20',\n",
       " '08/09/20',\n",
       " '08/09/20',\n",
       " '08/09/20',\n",
       " '08/09/20',\n",
       " '08/09/20',\n",
       " '08/09/20',\n",
       " '08/09/20',\n",
       " '08/09/20',\n",
       " '08/09/20',\n",
       " '08/09/20',\n",
       " '08/09/20',\n",
       " '09/09/20',\n",
       " '09/09/20',\n",
       " '09/09/20',\n",
       " '09/09/20',\n",
       " '09/09/20',\n",
       " '09/09/20',\n",
       " '09/09/20',\n",
       " '09/09/20',\n",
       " '09/09/20',\n",
       " '09/09/20',\n",
       " '10/09/20',\n",
       " '10/09/20',\n",
       " '10/09/20',\n",
       " '10/09/20',\n",
       " '10/09/20',\n",
       " '10/09/20',\n",
       " '10/09/20',\n",
       " '10/09/20',\n",
       " '10/09/20',\n",
       " '10/09/20',\n",
       " '10/09/20',\n",
       " '10/09/20',\n",
       " '13/09/20',\n",
       " '13/09/20',\n",
       " '13/09/20',\n",
       " '13/09/20',\n",
       " '13/09/20',\n",
       " '13/09/20',\n",
       " '13/09/20',\n",
       " '13/09/20',\n",
       " '13/09/20',\n",
       " '13/09/20',\n",
       " '13/09/20',\n",
       " '13/09/20',\n",
       " '13/09/20',\n",
       " '13/09/20',\n",
       " '13/09/20',\n",
       " '13/09/20',\n",
       " '13/09/20',\n",
       " '13/09/20',\n",
       " '13/09/20',\n",
       " '13/09/20',\n",
       " '13/09/20',\n",
       " '13/09/20',\n",
       " '13/09/20',\n",
       " '13/09/20',\n",
       " '13/09/20',\n",
       " '13/09/20',\n",
       " '13/09/20',\n",
       " '13/09/20',\n",
       " '13/09/20',\n",
       " '13/09/20',\n",
       " '13/09/20',\n",
       " '13/09/20',\n",
       " '13/09/20',\n",
       " '13/09/20',\n",
       " '13/09/20',\n",
       " '13/09/20',\n",
       " '13/09/20',\n",
       " '13/09/20',\n",
       " '13/09/20',\n",
       " '13/09/20',\n",
       " '13/09/20',\n",
       " '14/09/20',\n",
       " '14/09/20',\n",
       " '14/09/20',\n",
       " '14/09/20',\n",
       " '14/09/20',\n",
       " '14/09/20',\n",
       " '14/09/20',\n",
       " '14/09/20',\n",
       " '14/09/20',\n",
       " '14/09/20',\n",
       " '15/09/20',\n",
       " '15/09/20',\n",
       " '15/09/20',\n",
       " '15/09/20',\n",
       " '15/09/20',\n",
       " '15/09/20',\n",
       " '15/09/20',\n",
       " '15/09/20',\n",
       " '15/09/20',\n",
       " '15/09/20',\n",
       " '15/09/20',\n",
       " '15/09/20',\n",
       " '15/09/20',\n",
       " '15/09/20',\n",
       " '15/09/20',\n",
       " '15/09/20',\n",
       " '15/09/20',\n",
       " '15/09/20',\n",
       " '15/09/20',\n",
       " '15/09/20',\n",
       " '15/09/20',\n",
       " '15/09/20',\n",
       " '15/09/20',\n",
       " '15/09/20',\n",
       " '15/09/20',\n",
       " '15/09/20',\n",
       " '15/09/20',\n",
       " '15/09/20',\n",
       " '15/09/20',\n",
       " '15/09/20',\n",
       " '15/09/20',\n",
       " '15/09/20',\n",
       " '15/09/20',\n",
       " '15/09/20',\n",
       " '15/09/20',\n",
       " '15/09/20',\n",
       " '15/09/20',\n",
       " '15/09/20',\n",
       " '15/09/20',\n",
       " '15/09/20',\n",
       " '15/09/20',\n",
       " '15/09/20',\n",
       " '15/09/20',\n",
       " '15/09/20',\n",
       " '15/09/20',\n",
       " '15/09/20',\n",
       " '15/09/20',\n",
       " '15/09/20',\n",
       " '15/09/20',\n",
       " '15/09/20',\n",
       " '15/09/20',\n",
       " '15/09/20',\n",
       " '15/09/20',\n",
       " '15/09/20',\n",
       " '15/09/20',\n",
       " '15/09/20',\n",
       " '15/09/20',\n",
       " '15/09/20',\n",
       " '15/09/20',\n",
       " '15/09/20',\n",
       " '15/09/20',\n",
       " '15/09/20',\n",
       " '15/09/20',\n",
       " '15/09/20',\n",
       " '15/09/20',\n",
       " '15/09/20',\n",
       " '15/09/20',\n",
       " '15/09/20',\n",
       " '15/09/20',\n",
       " '16/09/20',\n",
       " '16/09/20',\n",
       " '16/09/20',\n",
       " '16/09/20',\n",
       " '16/09/20',\n",
       " '16/09/20',\n",
       " '16/09/20',\n",
       " '16/09/20',\n",
       " '16/09/20',\n",
       " '16/09/20',\n",
       " '16/09/20',\n",
       " '16/09/20',\n",
       " '16/09/20',\n",
       " '16/09/20',\n",
       " '16/09/20',\n",
       " '16/09/20',\n",
       " '16/09/20',\n",
       " '16/09/20',\n",
       " '17/09/20',\n",
       " '17/09/20',\n",
       " '17/09/20',\n",
       " '17/09/20',\n",
       " '17/09/20',\n",
       " '17/09/20',\n",
       " '17/09/20',\n",
       " '17/09/20',\n",
       " '17/09/20',\n",
       " '17/09/20',\n",
       " '17/09/20',\n",
       " '17/09/20',\n",
       " '17/09/20',\n",
       " '17/09/20',\n",
       " '17/09/20',\n",
       " '17/09/20',\n",
       " '17/09/20',\n",
       " '17/09/20',\n",
       " '17/09/20',\n",
       " '17/09/20',\n",
       " '17/09/20',\n",
       " '19/09/20',\n",
       " '19/09/20',\n",
       " '19/09/20',\n",
       " '19/09/20',\n",
       " '19/09/20',\n",
       " '19/09/20',\n",
       " '19/09/20',\n",
       " '19/09/20',\n",
       " '19/09/20',\n",
       " '19/09/20',\n",
       " '19/09/20',\n",
       " '19/09/20',\n",
       " '19/09/20',\n",
       " '19/09/20',\n",
       " '19/09/20',\n",
       " '19/09/20',\n",
       " '19/09/20',\n",
       " '19/09/20',\n",
       " '19/09/20',\n",
       " '19/09/20',\n",
       " '19/09/20',\n",
       " '19/09/20',\n",
       " '19/09/20',\n",
       " '19/09/20',\n",
       " '19/09/20',\n",
       " '19/09/20',\n",
       " '19/09/20',\n",
       " '19/09/20',\n",
       " '19/09/20',\n",
       " '19/09/20',\n",
       " '19/09/20',\n",
       " '19/09/20',\n",
       " '19/09/20',\n",
       " '19/09/20',\n",
       " '19/09/20',\n",
       " '19/09/20',\n",
       " '19/09/20',\n",
       " '19/09/20',\n",
       " '19/09/20',\n",
       " '19/09/20',\n",
       " '19/09/20',\n",
       " '19/09/20',\n",
       " '19/09/20',\n",
       " '19/09/20',\n",
       " '19/09/20',\n",
       " '19/09/20',\n",
       " '19/09/20',\n",
       " '20/09/20',\n",
       " '20/09/20',\n",
       " '20/09/20',\n",
       " '20/09/20',\n",
       " '20/09/20',\n",
       " '20/09/20',\n",
       " '20/09/20',\n",
       " '20/09/20',\n",
       " '20/09/20',\n",
       " '20/09/20',\n",
       " '20/09/20',\n",
       " '20/09/20',\n",
       " '20/09/20',\n",
       " '20/09/20',\n",
       " '20/09/20',\n",
       " '20/09/20',\n",
       " '20/09/20',\n",
       " '20/09/20',\n",
       " '20/09/20',\n",
       " '20/09/20',\n",
       " '20/09/20',\n",
       " '20/09/20',\n",
       " '20/09/20',\n",
       " '20/09/20',\n",
       " '20/09/20',\n",
       " '20/09/20',\n",
       " '20/09/20',\n",
       " '20/09/20',\n",
       " '21/09/20',\n",
       " '21/09/20',\n",
       " '21/09/20',\n",
       " '21/09/20',\n",
       " '21/09/20',\n",
       " '21/09/20',\n",
       " '21/09/20',\n",
       " '21/09/20',\n",
       " '21/09/20',\n",
       " '21/09/20',\n",
       " '21/09/20',\n",
       " '21/09/20',\n",
       " '21/09/20',\n",
       " '21/09/20',\n",
       " '21/09/20',\n",
       " '21/09/20',\n",
       " '21/09/20',\n",
       " '21/09/20',\n",
       " '21/09/20',\n",
       " '21/09/20',\n",
       " '21/09/20',\n",
       " '21/09/20',\n",
       " '21/09/20',\n",
       " '21/09/20',\n",
       " '21/09/20',\n",
       " '21/09/20',\n",
       " '21/09/20',\n",
       " '21/09/20',\n",
       " '21/09/20',\n",
       " '21/09/20',\n",
       " '21/09/20',\n",
       " '21/09/20',\n",
       " '21/09/20',\n",
       " '23/09/20',\n",
       " '23/09/20',\n",
       " '23/09/20',\n",
       " '23/09/20',\n",
       " '23/09/20',\n",
       " '23/09/20',\n",
       " '23/09/20',\n",
       " '23/09/20',\n",
       " '23/09/20',\n",
       " '23/09/20',\n",
       " '23/09/20',\n",
       " '23/09/20',\n",
       " '23/09/20',\n",
       " '23/09/20',\n",
       " '23/09/20',\n",
       " '23/09/20',\n",
       " '23/09/20',\n",
       " '23/09/20',\n",
       " '23/09/20',\n",
       " '23/09/20',\n",
       " '23/09/20',\n",
       " '23/09/20',\n",
       " '23/09/20',\n",
       " '23/09/20',\n",
       " '23/09/20',\n",
       " '23/09/20',\n",
       " '23/09/20',\n",
       " '23/09/20']"
      ]
     },
     "execution_count": 34,
     "metadata": {},
     "output_type": "execute_result"
    }
   ],
   "source": [
    "pattern1 = re.compile('\\d{2}\\/\\d{2}\\/\\d{2}')\n",
    "totalDates = re.findall(pattern1,chats)\n",
    "totalDates"
   ]
  },
  {
   "cell_type": "code",
   "execution_count": 33,
   "metadata": {
    "scrolled": true
   },
   "outputs": [
    {
     "data": {
      "text/plain": [
       "['03/09/20',\n",
       " '30/08/20',\n",
       " '27/08/20',\n",
       " '04/09/20',\n",
       " '29/08/20',\n",
       " '09/09/20',\n",
       " '19/09/20',\n",
       " '25/08/20',\n",
       " '24/08/20',\n",
       " '05/09/20',\n",
       " '17/09/20',\n",
       " '23/09/20',\n",
       " '28/08/20',\n",
       " '16/09/20',\n",
       " '10/09/20',\n",
       " '06/09/20',\n",
       " '21/09/20',\n",
       " '13/09/20',\n",
       " '08/09/20',\n",
       " '15/09/20',\n",
       " '20/09/20',\n",
       " '14/09/20']"
      ]
     },
     "execution_count": 33,
     "metadata": {},
     "output_type": "execute_result"
    }
   ],
   "source": [
    "dates = list(set(totalDates))\n",
    "dates"
   ]
  },
  {
   "cell_type": "code",
   "execution_count": 32,
   "metadata": {},
   "outputs": [
    {
     "data": {
      "text/plain": [
       "[7,\n",
       " 5,\n",
       " 19,\n",
       " 3,\n",
       " 12,\n",
       " 10,\n",
       " 47,\n",
       " 15,\n",
       " 14,\n",
       " 7,\n",
       " 21,\n",
       " 28,\n",
       " 3,\n",
       " 18,\n",
       " 12,\n",
       " 12,\n",
       " 33,\n",
       " 41,\n",
       " 17,\n",
       " 69,\n",
       " 28,\n",
       " 10]"
      ]
     },
     "execution_count": 32,
     "metadata": {},
     "output_type": "execute_result"
    }
   ],
   "source": [
    "messageCount1=[]\n",
    "\n",
    "for date in dates:\n",
    "    messageCount1.append(totalDates.count(date))\n",
    "messageCount1    "
   ]
  },
  {
   "cell_type": "code",
   "execution_count": 17,
   "metadata": {},
   "outputs": [
    {
     "data": {
      "text/plain": [
       "[('03/09/20', 7),\n",
       " ('30/08/20', 5),\n",
       " ('27/08/20', 19),\n",
       " ('04/09/20', 3),\n",
       " ('29/08/20', 12),\n",
       " ('09/09/20', 10),\n",
       " ('19/09/20', 47),\n",
       " ('25/08/20', 15),\n",
       " ('24/08/20', 14),\n",
       " ('05/09/20', 7),\n",
       " ('17/09/20', 21),\n",
       " ('23/09/20', 28),\n",
       " ('28/08/20', 3),\n",
       " ('16/09/20', 18),\n",
       " ('10/09/20', 12),\n",
       " ('06/09/20', 12),\n",
       " ('21/09/20', 33),\n",
       " ('13/09/20', 41),\n",
       " ('08/09/20', 17),\n",
       " ('15/09/20', 69),\n",
       " ('20/09/20', 28),\n",
       " ('14/09/20', 10)]"
      ]
     },
     "execution_count": 17,
     "metadata": {},
     "output_type": "execute_result"
    }
   ],
   "source": [
    "zippedList1 = list(zip(dates,messageCount1))\n",
    "zippedList1"
   ]
  },
  {
   "cell_type": "code",
   "execution_count": 30,
   "metadata": {},
   "outputs": [
    {
     "data": {
      "text/html": [
       "<div>\n",
       "<style scoped>\n",
       "    .dataframe tbody tr th:only-of-type {\n",
       "        vertical-align: middle;\n",
       "    }\n",
       "\n",
       "    .dataframe tbody tr th {\n",
       "        vertical-align: top;\n",
       "    }\n",
       "\n",
       "    .dataframe thead th {\n",
       "        text-align: right;\n",
       "    }\n",
       "</style>\n",
       "<table border=\"1\" class=\"dataframe\">\n",
       "  <thead>\n",
       "    <tr style=\"text-align: right;\">\n",
       "      <th></th>\n",
       "      <th>date</th>\n",
       "      <th>message_count</th>\n",
       "    </tr>\n",
       "  </thead>\n",
       "  <tbody>\n",
       "    <tr>\n",
       "      <th>0</th>\n",
       "      <td>03/09/20</td>\n",
       "      <td>7</td>\n",
       "    </tr>\n",
       "    <tr>\n",
       "      <th>1</th>\n",
       "      <td>30/08/20</td>\n",
       "      <td>5</td>\n",
       "    </tr>\n",
       "    <tr>\n",
       "      <th>2</th>\n",
       "      <td>27/08/20</td>\n",
       "      <td>19</td>\n",
       "    </tr>\n",
       "    <tr>\n",
       "      <th>3</th>\n",
       "      <td>04/09/20</td>\n",
       "      <td>3</td>\n",
       "    </tr>\n",
       "    <tr>\n",
       "      <th>4</th>\n",
       "      <td>29/08/20</td>\n",
       "      <td>12</td>\n",
       "    </tr>\n",
       "    <tr>\n",
       "      <th>5</th>\n",
       "      <td>09/09/20</td>\n",
       "      <td>10</td>\n",
       "    </tr>\n",
       "    <tr>\n",
       "      <th>6</th>\n",
       "      <td>19/09/20</td>\n",
       "      <td>47</td>\n",
       "    </tr>\n",
       "    <tr>\n",
       "      <th>7</th>\n",
       "      <td>25/08/20</td>\n",
       "      <td>15</td>\n",
       "    </tr>\n",
       "    <tr>\n",
       "      <th>8</th>\n",
       "      <td>24/08/20</td>\n",
       "      <td>14</td>\n",
       "    </tr>\n",
       "    <tr>\n",
       "      <th>9</th>\n",
       "      <td>05/09/20</td>\n",
       "      <td>7</td>\n",
       "    </tr>\n",
       "    <tr>\n",
       "      <th>10</th>\n",
       "      <td>17/09/20</td>\n",
       "      <td>21</td>\n",
       "    </tr>\n",
       "    <tr>\n",
       "      <th>11</th>\n",
       "      <td>23/09/20</td>\n",
       "      <td>28</td>\n",
       "    </tr>\n",
       "    <tr>\n",
       "      <th>12</th>\n",
       "      <td>28/08/20</td>\n",
       "      <td>3</td>\n",
       "    </tr>\n",
       "    <tr>\n",
       "      <th>13</th>\n",
       "      <td>16/09/20</td>\n",
       "      <td>18</td>\n",
       "    </tr>\n",
       "    <tr>\n",
       "      <th>14</th>\n",
       "      <td>10/09/20</td>\n",
       "      <td>12</td>\n",
       "    </tr>\n",
       "    <tr>\n",
       "      <th>15</th>\n",
       "      <td>06/09/20</td>\n",
       "      <td>12</td>\n",
       "    </tr>\n",
       "    <tr>\n",
       "      <th>16</th>\n",
       "      <td>21/09/20</td>\n",
       "      <td>33</td>\n",
       "    </tr>\n",
       "    <tr>\n",
       "      <th>17</th>\n",
       "      <td>13/09/20</td>\n",
       "      <td>41</td>\n",
       "    </tr>\n",
       "    <tr>\n",
       "      <th>18</th>\n",
       "      <td>08/09/20</td>\n",
       "      <td>17</td>\n",
       "    </tr>\n",
       "    <tr>\n",
       "      <th>19</th>\n",
       "      <td>15/09/20</td>\n",
       "      <td>69</td>\n",
       "    </tr>\n",
       "    <tr>\n",
       "      <th>20</th>\n",
       "      <td>20/09/20</td>\n",
       "      <td>28</td>\n",
       "    </tr>\n",
       "    <tr>\n",
       "      <th>21</th>\n",
       "      <td>14/09/20</td>\n",
       "      <td>10</td>\n",
       "    </tr>\n",
       "  </tbody>\n",
       "</table>\n",
       "</div>"
      ],
      "text/plain": [
       "        date  message_count\n",
       "0   03/09/20              7\n",
       "1   30/08/20              5\n",
       "2   27/08/20             19\n",
       "3   04/09/20              3\n",
       "4   29/08/20             12\n",
       "5   09/09/20             10\n",
       "6   19/09/20             47\n",
       "7   25/08/20             15\n",
       "8   24/08/20             14\n",
       "9   05/09/20              7\n",
       "10  17/09/20             21\n",
       "11  23/09/20             28\n",
       "12  28/08/20              3\n",
       "13  16/09/20             18\n",
       "14  10/09/20             12\n",
       "15  06/09/20             12\n",
       "16  21/09/20             33\n",
       "17  13/09/20             41\n",
       "18  08/09/20             17\n",
       "19  15/09/20             69\n",
       "20  20/09/20             28\n",
       "21  14/09/20             10"
      ]
     },
     "execution_count": 30,
     "metadata": {},
     "output_type": "execute_result"
    }
   ],
   "source": [
    "datesDf = pd.DataFrame(zippedList1, columns = ['date','message_count'])\n",
    "datesDf"
   ]
  },
  {
   "cell_type": "markdown",
   "metadata": {},
   "source": [
    "### Bar Chart using matplotlib"
   ]
  },
  {
   "cell_type": "code",
   "execution_count": 40,
   "metadata": {
    "scrolled": true
   },
   "outputs": [
    {
     "data": {
      "image/png": "[encoded data removed]",
      "text/plain": [
       "<Figure size 432x288 with 1 Axes>"
      ]
     },
     "metadata": {
      "needs_background": "light"
     },
     "output_type": "display_data"
    }
   ],
   "source": [
    "import matplotlib.pyplot as plt\n",
    "fig = plt.figure()\n",
    "ax = fig.add_axes([0,0,1,1])\n",
    "ax.bar(dates,messageCount1)\n",
    "plt.xticks(rotation=90)\n",
    "plt.xlabel('Dates')\n",
    "plt.ylabel('No. of messages')\n",
    "plt.show()"
   ]
  },
  {
   "cell_type": "markdown",
   "metadata": {},
   "source": [
    "### Pie Chart using Plotly"
   ]
  },
  {
   "cell_type": "code",
   "execution_count": 143,
   "metadata": {},
   "outputs": [
    {
     "data": {
      "application/vnd.plotly.v1+json": {
       "config": {
        "plotlyServerURL": "https://plot.ly"
       },
       "data": [
        {
         "domain": {
          "x": [
           0,
           1
          ],
          "y": [
           0,
           1
          ]
         },
         "hovertemplate": "date=%{label}<br>message_count=%{value}<extra></extra>",
         "labels": [
          "03/09/20",
          "30/08/20",
          "27/08/20",
          "04/09/20",
          "29/08/20",
          "09/09/20",
          "19/09/20",
          "25/08/20",
          "24/08/20",
          "05/09/20",
          "17/09/20",
          "23/09/20",
          "28/08/20",
          "16/09/20",
          "10/09/20",
          "06/09/20",
          "21/09/20",
          "13/09/20",
          "08/09/20",
          "15/09/20",
          "20/09/20",
          "14/09/20"
         ],
         "legendgroup": "",
         "name": "",
         "showlegend": true,
         "type": "pie",
         "values": [
          7,
          5,
          19,
          3,
          12,
          10,
          47,
          15,
          14,
          7,
          21,
          28,
          3,
          18,
          12,
          12,
          33,
          41,
          17,
          69,
          28,
          10
         ]
        }
       ],
       "layout": {
        "legend": {
         "tracegroupgap": 0
        },
        "margin": {
         "t": 60
        },
        "template": {
         "data": {
          "bar": [
           {
            "error_x": {
             "color": "#2a3f5f"
            },
            "error_y": {
             "color": "#2a3f5f"
            },
            "marker": {
             "line": {
              "color": "#E5ECF6",
              "width": 0.5
             }
            },
            "type": "bar"
           }
          ],
          "barpolar": [
           {
            "marker": {
             "line": {
              "color": "#E5ECF6",
              "width": 0.5
             }
            },
            "type": "barpolar"
           }
          ],
          "carpet": [
           {
            "aaxis": {
             "endlinecolor": "#2a3f5f",
             "gridcolor": "white",
             "linecolor": "white",
             "minorgridcolor": "white",
             "startlinecolor": "#2a3f5f"
            },
            "baxis": {
             "endlinecolor": "#2a3f5f",
             "gridcolor": "white",
             "linecolor": "white",
             "minorgridcolor": "white",
             "startlinecolor": "#2a3f5f"
            },
            "type": "carpet"
           }
          ],
          "choropleth": [
           {
            "colorbar": {
             "outlinewidth": 0,
             "ticks": ""
            },
            "type": "choropleth"
           }
          ],
          "contour": [
           {
            "colorbar": {
             "outlinewidth": 0,
             "ticks": ""
            },
            "colorscale": [
             [
              0,
              "#0d0887"
             ],
             [
              0.1111111111111111,
              "#46039f"
             ],
             [
              0.2222222222222222,
              "#7201a8"
             ],
             [
              0.3333333333333333,
              "#9c179e"
             ],
             [
              0.4444444444444444,
              "#bd3786"
             ],
             [
              0.5555555555555556,
              "#d8576b"
             ],
             [
              0.6666666666666666,
              "#ed7953"
             ],
             [
              0.7777777777777778,
              "#fb9f3a"
             ],
             [
              0.8888888888888888,
              "#fdca26"
             ],
             [
              1,
              "#f0f921"
             ]
            ],
            "type": "contour"
           }
          ],
          "contourcarpet": [
           {
            "colorbar": {
             "outlinewidth": 0,
             "ticks": ""
            },
            "type": "contourcarpet"
           }
          ],
          "heatmap": [
           {
            "colorbar": {
             "outlinewidth": 0,
             "ticks": ""
            },
            "colorscale": [
             [
              0,
              "#0d0887"
             ],
             [
              0.1111111111111111,
              "#46039f"
             ],
             [
              0.2222222222222222,
              "#7201a8"
             ],
             [
              0.3333333333333333,
              "#9c179e"
             ],
             [
              0.4444444444444444,
              "#bd3786"
             ],
             [
              0.5555555555555556,
              "#d8576b"
             ],
             [
              0.6666666666666666,
              "#ed7953"
             ],
             [
              0.7777777777777778,
              "#fb9f3a"
             ],
             [
              0.8888888888888888,
              "#fdca26"
             ],
             [
              1,
              "#f0f921"
             ]
            ],
            "type": "heatmap"
           }
          ],
          "heatmapgl": [
           {
            "colorbar": {
             "outlinewidth": 0,
             "ticks": ""
            },
            "colorscale": [
             [
              0,
              "#0d0887"
             ],
             [
              0.1111111111111111,
              "#46039f"
             ],
             [
              0.2222222222222222,
              "#7201a8"
             ],
             [
              0.3333333333333333,
              "#9c179e"
             ],
             [
              0.4444444444444444,
              "#bd3786"
             ],
             [
              0.5555555555555556,
              "#d8576b"
             ],
             [
              0.6666666666666666,
              "#ed7953"
             ],
             [
              0.7777777777777778,
              "#fb9f3a"
             ],
             [
              0.8888888888888888,
              "#fdca26"
             ],
             [
              1,
              "#f0f921"
             ]
            ],
            "type": "heatmapgl"
           }
          ],
          "histogram": [
           {
            "marker": {
             "colorbar": {
              "outlinewidth": 0,
              "ticks": ""
             }
            },
            "type": "histogram"
           }
          ],
          "histogram2d": [
           {
            "colorbar": {
             "outlinewidth": 0,
             "ticks": ""
            },
            "colorscale": [
             [
              0,
              "#0d0887"
             ],
             [
              0.1111111111111111,
              "#46039f"
             ],
             [
              0.2222222222222222,
              "#7201a8"
             ],
             [
              0.3333333333333333,
              "#9c179e"
             ],
             [
              0.4444444444444444,
              "#bd3786"
             ],
             [
              0.5555555555555556,
              "#d8576b"
             ],
             [
              0.6666666666666666,
              "#ed7953"
             ],
             [
              0.7777777777777778,
              "#fb9f3a"
             ],
             [
              0.8888888888888888,
              "#fdca26"
             ],
             [
              1,
              "#f0f921"
             ]
            ],
            "type": "histogram2d"
           }
          ],
          "histogram2dcontour": [
           {
            "colorbar": {
             "outlinewidth": 0,
             "ticks": ""
            },
            "colorscale": [
             [
              0,
              "#0d0887"
             ],
             [
              0.1111111111111111,
              "#46039f"
             ],
             [
              0.2222222222222222,
              "#7201a8"
             ],
             [
              0.3333333333333333,
              "#9c179e"
             ],
             [
              0.4444444444444444,
              "#bd3786"
             ],
             [
              0.5555555555555556,
              "#d8576b"
             ],
             [
              0.6666666666666666,
              "#ed7953"
             ],
             [
              0.7777777777777778,
              "#fb9f3a"
             ],
             [
              0.8888888888888888,
              "#fdca26"
             ],
             [
              1,
              "#f0f921"
             ]
            ],
            "type": "histogram2dcontour"
           }
          ],
          "mesh3d": [
           {
            "colorbar": {
             "outlinewidth": 0,
             "ticks": ""
            },
            "type": "mesh3d"
           }
          ],
          "parcoords": [
           {
            "line": {
             "colorbar": {
              "outlinewidth": 0,
              "ticks": ""
             }
            },
            "type": "parcoords"
           }
          ],
          "pie": [
           {
            "automargin": true,
            "type": "pie"
           }
          ],
          "scatter": [
           {
            "marker": {
             "colorbar": {
              "outlinewidth": 0,
              "ticks": ""
             }
            },
            "type": "scatter"
           }
          ],
          "scatter3d": [
           {
            "line": {
             "colorbar": {
              "outlinewidth": 0,
              "ticks": ""
             }
            },
            "marker": {
             "colorbar": {
              "outlinewidth": 0,
              "ticks": ""
             }
            },
            "type": "scatter3d"
           }
          ],
          "scattercarpet": [
           {
            "marker": {
             "colorbar": {
              "outlinewidth": 0,
              "ticks": ""
             }
            },
            "type": "scattercarpet"
           }
          ],
          "scattergeo": [
           {
            "marker": {
             "colorbar": {
              "outlinewidth": 0,
              "ticks": ""
             }
            },
            "type": "scattergeo"
           }
          ],
          "scattergl": [
           {
            "marker": {
             "colorbar": {
              "outlinewidth": 0,
              "ticks": ""
             }
            },
            "type": "scattergl"
           }
          ],
          "scattermapbox": [
           {
            "marker": {
             "colorbar": {
              "outlinewidth": 0,
              "ticks": ""
             }
            },
            "type": "scattermapbox"
           }
          ],
          "scatterpolar": [
           {
            "marker": {
             "colorbar": {
              "outlinewidth": 0,
              "ticks": ""
             }
            },
            "type": "scatterpolar"
           }
          ],
          "scatterpolargl": [
           {
            "marker": {
             "colorbar": {
              "outlinewidth": 0,
              "ticks": ""
             }
            },
            "type": "scatterpolargl"
           }
          ],
          "scatterternary": [
           {
            "marker": {
             "colorbar": {
              "outlinewidth": 0,
              "ticks": ""
             }
            },
            "type": "scatterternary"
           }
          ],
          "surface": [
           {
            "colorbar": {
             "outlinewidth": 0,
             "ticks": ""
            },
            "colorscale": [
             [
              0,
              "#0d0887"
             ],
             [
              0.1111111111111111,
              "#46039f"
             ],
             [
              0.2222222222222222,
              "#7201a8"
             ],
             [
              0.3333333333333333,
              "#9c179e"
             ],
             [
              0.4444444444444444,
              "#bd3786"
             ],
             [
              0.5555555555555556,
              "#d8576b"
             ],
             [
              0.6666666666666666,
              "#ed7953"
             ],
             [
              0.7777777777777778,
              "#fb9f3a"
             ],
             [
              0.8888888888888888,
              "#fdca26"
             ],
             [
              1,
              "#f0f921"
             ]
            ],
            "type": "surface"
           }
          ],
          "table": [
           {
            "cells": {
             "fill": {
              "color": "#EBF0F8"
             },
             "line": {
              "color": "white"
             }
            },
            "header": {
             "fill": {
              "color": "#C8D4E3"
             },
             "line": {
              "color": "white"
             }
            },
            "type": "table"
           }
          ]
         },
         "layout": {
          "annotationdefaults": {
           "arrowcolor": "#2a3f5f",
           "arrowhead": 0,
           "arrowwidth": 1
          },
          "coloraxis": {
           "colorbar": {
            "outlinewidth": 0,
            "ticks": ""
           }
          },
          "colorscale": {
           "diverging": [
            [
             0,
             "#8e0152"
            ],
            [
             0.1,
             "#c51b7d"
            ],
            [
             0.2,
             "#de77ae"
            ],
            [
             0.3,
             "#f1b6da"
            ],
            [
             0.4,
             "#fde0ef"
            ],
            [
             0.5,
             "#f7f7f7"
            ],
            [
             0.6,
             "#e6f5d0"
            ],
            [
             0.7,
             "#b8e186"
            ],
            [
             0.8,
             "#7fbc41"
            ],
            [
             0.9,
             "#4d9221"
            ],
            [
             1,
             "#276419"
            ]
           ],
           "sequential": [
            [
             0,
             "#0d0887"
            ],
            [
             0.1111111111111111,
             "#46039f"
            ],
            [
             0.2222222222222222,
             "#7201a8"
            ],
            [
             0.3333333333333333,
             "#9c179e"
            ],
            [
             0.4444444444444444,
             "#bd3786"
            ],
            [
             0.5555555555555556,
             "#d8576b"
            ],
            [
             0.6666666666666666,
             "#ed7953"
            ],
            [
             0.7777777777777778,
             "#fb9f3a"
            ],
            [
             0.8888888888888888,
             "#fdca26"
            ],
            [
             1,
             "#f0f921"
            ]
           ],
           "sequentialminus": [
            [
             0,
             "#0d0887"
            ],
            [
             0.1111111111111111,
             "#46039f"
            ],
            [
             0.2222222222222222,
             "#7201a8"
            ],
            [
             0.3333333333333333,
             "#9c179e"
            ],
            [
             0.4444444444444444,
             "#bd3786"
            ],
            [
             0.5555555555555556,
             "#d8576b"
            ],
            [
             0.6666666666666666,
             "#ed7953"
            ],
            [
             0.7777777777777778,
             "#fb9f3a"
            ],
            [
             0.8888888888888888,
             "#fdca26"
            ],
            [
             1,
             "#f0f921"
            ]
           ]
          },
          "colorway": [
           "#636efa",
           "#EF553B",
           "#00cc96",
           "#ab63fa",
           "#FFA15A",
           "#19d3f3",
           "#FF6692",
           "#B6E880",
           "#FF97FF",
           "#FECB52"
          ],
          "font": {
           "color": "#2a3f5f"
          },
          "geo": {
           "bgcolor": "white",
           "lakecolor": "white",
           "landcolor": "#E5ECF6",
           "showlakes": true,
           "showland": true,
           "subunitcolor": "white"
          },
          "hoverlabel": {
           "align": "left"
          },
          "hovermode": "closest",
          "mapbox": {
           "style": "light"
          },
          "paper_bgcolor": "white",
          "plot_bgcolor": "#E5ECF6",
          "polar": {
           "angularaxis": {
            "gridcolor": "white",
            "linecolor": "white",
            "ticks": ""
           },
           "bgcolor": "#E5ECF6",
           "radialaxis": {
            "gridcolor": "white",
            "linecolor": "white",
            "ticks": ""
           }
          },
          "scene": {
           "xaxis": {
            "backgroundcolor": "#E5ECF6",
            "gridcolor": "white",
            "gridwidth": 2,
            "linecolor": "white",
            "showbackground": true,
            "ticks": "",
            "zerolinecolor": "white"
           },
           "yaxis": {
            "backgroundcolor": "#E5ECF6",
            "gridcolor": "white",
            "gridwidth": 2,
            "linecolor": "white",
            "showbackground": true,
            "ticks": "",
            "zerolinecolor": "white"
           },
           "zaxis": {
            "backgroundcolor": "#E5ECF6",
            "gridcolor": "white",
            "gridwidth": 2,
            "linecolor": "white",
            "showbackground": true,
            "ticks": "",
            "zerolinecolor": "white"
           }
          },
          "shapedefaults": {
           "line": {
            "color": "#2a3f5f"
           }
          },
          "ternary": {
           "aaxis": {
            "gridcolor": "white",
            "linecolor": "white",
            "ticks": ""
           },
           "baxis": {
            "gridcolor": "white",
            "linecolor": "white",
            "ticks": ""
           },
           "bgcolor": "#E5ECF6",
           "caxis": {
            "gridcolor": "white",
            "linecolor": "white",
            "ticks": ""
           }
          },
          "title": {
           "x": 0.05
          },
          "xaxis": {
           "automargin": true,
           "gridcolor": "white",
           "linecolor": "white",
           "ticks": "",
           "title": {
            "standoff": 15
           },
           "zerolinecolor": "white",
           "zerolinewidth": 2
          },
          "yaxis": {
           "automargin": true,
           "gridcolor": "white",
           "linecolor": "white",
           "ticks": "",
           "title": {
            "standoff": 15
           },
           "zerolinecolor": "white",
           "zerolinewidth": 2
          }
         }
        }
       }
      },
      "text/html": [
       "<div>                            <div id=\"f2713cbb-23bb-4405-bcd3-2c7254fa45e2\" class=\"plotly-graph-div\" style=\"height:525px; width:100%;\"></div>            <script type=\"text/javascript\">                require([\"plotly\"], function(Plotly) {                    window.PLOTLYENV=window.PLOTLYENV || {};                                    if (document.getElementById(\"f2713cbb-23bb-4405-bcd3-2c7254fa45e2\")) {                    Plotly.newPlot(                        \"f2713cbb-23bb-4405-bcd3-2c7254fa45e2\",                        [{\"domain\": {\"x\": [0.0, 1.0], \"y\": [0.0, 1.0]}, \"hovertemplate\": \"date=%{label}<br>message_count=%{value}<extra></extra>\", \"labels\": [\"03/09/20\", \"30/08/20\", \"27/08/20\", \"04/09/20\", \"29/08/20\", \"09/09/20\", \"19/09/20\", \"25/08/20\", \"24/08/20\", \"05/09/20\", \"17/09/20\", \"23/09/20\", \"28/08/20\", \"16/09/20\", \"10/09/20\", \"06/09/20\", \"21/09/20\", \"13/09/20\", \"08/09/20\", \"15/09/20\", \"20/09/20\", \"14/09/20\"], \"legendgroup\": \"\", \"name\": \"\", \"showlegend\": true, \"type\": \"pie\", \"values\": [7, 5, 19, 3, 12, 10, 47, 15, 14, 7, 21, 28, 3, 18, 12, 12, 33, 41, 17, 69, 28, 10]}],                        {\"legend\": {\"tracegroupgap\": 0}, \"margin\": {\"t\": 60}, \"template\": {\"data\": {\"bar\": [{\"error_x\": {\"color\": \"#2a3f5f\"}, \"error_y\": {\"color\": \"#2a3f5f\"}, \"marker\": {\"line\": {\"color\": \"#E5ECF6\", \"width\": 0.5}}, \"type\": \"bar\"}], \"barpolar\": [{\"marker\": {\"line\": {\"color\": \"#E5ECF6\", \"width\": 0.5}}, \"type\": \"barpolar\"}], \"carpet\": [{\"aaxis\": {\"endlinecolor\": \"#2a3f5f\", \"gridcolor\": \"white\", \"linecolor\": \"white\", \"minorgridcolor\": \"white\", \"startlinecolor\": \"#2a3f5f\"}, \"baxis\": {\"endlinecolor\": \"#2a3f5f\", \"gridcolor\": \"white\", \"linecolor\": \"white\", \"minorgridcolor\": \"white\", \"startlinecolor\": \"#2a3f5f\"}, \"type\": \"carpet\"}], \"choropleth\": [{\"colorbar\": {\"outlinewidth\": 0, \"ticks\": \"\"}, \"type\": \"choropleth\"}], \"contour\": [{\"colorbar\": {\"outlinewidth\": 0, \"ticks\": \"\"}, \"colorscale\": [[0.0, \"#0d0887\"], [0.1111111111111111, \"#46039f\"], [0.2222222222222222, \"#7201a8\"], [0.3333333333333333, \"#9c179e\"], [0.4444444444444444, \"#bd3786\"], [0.5555555555555556, \"#d8576b\"], [0.6666666666666666, \"#ed7953\"], [0.7777777777777778, \"#fb9f3a\"], [0.8888888888888888, \"#fdca26\"], [1.0, \"#f0f921\"]], \"type\": \"contour\"}], \"contourcarpet\": [{\"colorbar\": {\"outlinewidth\": 0, \"ticks\": \"\"}, \"type\": \"contourcarpet\"}], \"heatmap\": [{\"colorbar\": {\"outlinewidth\": 0, \"ticks\": \"\"}, \"colorscale\": [[0.0, \"#0d0887\"], [0.1111111111111111, \"#46039f\"], [0.2222222222222222, \"#7201a8\"], [0.3333333333333333, \"#9c179e\"], [0.4444444444444444, \"#bd3786\"], [0.5555555555555556, \"#d8576b\"], [0.6666666666666666, \"#ed7953\"], [0.7777777777777778, \"#fb9f3a\"], [0.8888888888888888, \"#fdca26\"], [1.0, \"#f0f921\"]], \"type\": \"heatmap\"}], \"heatmapgl\": [{\"colorbar\": {\"outlinewidth\": 0, \"ticks\": \"\"}, \"colorscale\": [[0.0, \"#0d0887\"], [0.1111111111111111, \"#46039f\"], [0.2222222222222222, \"#7201a8\"], [0.3333333333333333, \"#9c179e\"], [0.4444444444444444, \"#bd3786\"], [0.5555555555555556, \"#d8576b\"], [0.6666666666666666, \"#ed7953\"], [0.7777777777777778, \"#fb9f3a\"], [0.8888888888888888, \"#fdca26\"], [1.0, \"#f0f921\"]], \"type\": \"heatmapgl\"}], \"histogram\": [{\"marker\": {\"colorbar\": {\"outlinewidth\": 0, \"ticks\": \"\"}}, \"type\": \"histogram\"}], \"histogram2d\": [{\"colorbar\": {\"outlinewidth\": 0, \"ticks\": \"\"}, \"colorscale\": [[0.0, \"#0d0887\"], [0.1111111111111111, \"#46039f\"], [0.2222222222222222, \"#7201a8\"], [0.3333333333333333, \"#9c179e\"], [0.4444444444444444, \"#bd3786\"], [0.5555555555555556, \"#d8576b\"], [0.6666666666666666, \"#ed7953\"], [0.7777777777777778, \"#fb9f3a\"], [0.8888888888888888, \"#fdca26\"], [1.0, \"#f0f921\"]], \"type\": \"histogram2d\"}], \"histogram2dcontour\": [{\"colorbar\": {\"outlinewidth\": 0, \"ticks\": \"\"}, \"colorscale\": [[0.0, \"#0d0887\"], [0.1111111111111111, \"#46039f\"], [0.2222222222222222, \"#7201a8\"], [0.3333333333333333, \"#9c179e\"], [0.4444444444444444, \"#bd3786\"], [0.5555555555555556, \"#d8576b\"], [0.6666666666666666, \"#ed7953\"], [0.7777777777777778, \"#fb9f3a\"], [0.8888888888888888, \"#fdca26\"], [1.0, \"#f0f921\"]], \"type\": \"histogram2dcontour\"}], \"mesh3d\": [{\"colorbar\": {\"outlinewidth\": 0, \"ticks\": \"\"}, \"type\": \"mesh3d\"}], \"parcoords\": [{\"line\": {\"colorbar\": {\"outlinewidth\": 0, \"ticks\": \"\"}}, \"type\": \"parcoords\"}], \"pie\": [{\"automargin\": true, \"type\": \"pie\"}], \"scatter\": [{\"marker\": {\"colorbar\": {\"outlinewidth\": 0, \"ticks\": \"\"}}, \"type\": \"scatter\"}], \"scatter3d\": [{\"line\": {\"colorbar\": {\"outlinewidth\": 0, \"ticks\": \"\"}}, \"marker\": {\"colorbar\": {\"outlinewidth\": 0, \"ticks\": \"\"}}, \"type\": \"scatter3d\"}], \"scattercarpet\": [{\"marker\": {\"colorbar\": {\"outlinewidth\": 0, \"ticks\": \"\"}}, \"type\": \"scattercarpet\"}], \"scattergeo\": [{\"marker\": {\"colorbar\": {\"outlinewidth\": 0, \"ticks\": \"\"}}, \"type\": \"scattergeo\"}], \"scattergl\": [{\"marker\": {\"colorbar\": {\"outlinewidth\": 0, \"ticks\": \"\"}}, \"type\": \"scattergl\"}], \"scattermapbox\": [{\"marker\": {\"colorbar\": {\"outlinewidth\": 0, \"ticks\": \"\"}}, \"type\": \"scattermapbox\"}], \"scatterpolar\": [{\"marker\": {\"colorbar\": {\"outlinewidth\": 0, \"ticks\": \"\"}}, \"type\": \"scatterpolar\"}], \"scatterpolargl\": [{\"marker\": {\"colorbar\": {\"outlinewidth\": 0, \"ticks\": \"\"}}, \"type\": \"scatterpolargl\"}], \"scatterternary\": [{\"marker\": {\"colorbar\": {\"outlinewidth\": 0, \"ticks\": \"\"}}, \"type\": \"scatterternary\"}], \"surface\": [{\"colorbar\": {\"outlinewidth\": 0, \"ticks\": \"\"}, \"colorscale\": [[0.0, \"#0d0887\"], [0.1111111111111111, \"#46039f\"], [0.2222222222222222, \"#7201a8\"], [0.3333333333333333, \"#9c179e\"], [0.4444444444444444, \"#bd3786\"], [0.5555555555555556, \"#d8576b\"], [0.6666666666666666, \"#ed7953\"], [0.7777777777777778, \"#fb9f3a\"], [0.8888888888888888, \"#fdca26\"], [1.0, \"#f0f921\"]], \"type\": \"surface\"}], \"table\": [{\"cells\": {\"fill\": {\"color\": \"#EBF0F8\"}, \"line\": {\"color\": \"white\"}}, \"header\": {\"fill\": {\"color\": \"#C8D4E3\"}, \"line\": {\"color\": \"white\"}}, \"type\": \"table\"}]}, \"layout\": {\"annotationdefaults\": {\"arrowcolor\": \"#2a3f5f\", \"arrowhead\": 0, \"arrowwidth\": 1}, \"coloraxis\": {\"colorbar\": {\"outlinewidth\": 0, \"ticks\": \"\"}}, \"colorscale\": {\"diverging\": [[0, \"#8e0152\"], [0.1, \"#c51b7d\"], [0.2, \"#de77ae\"], [0.3, \"#f1b6da\"], [0.4, \"#fde0ef\"], [0.5, \"#f7f7f7\"], [0.6, \"#e6f5d0\"], [0.7, \"#b8e186\"], [0.8, \"#7fbc41\"], [0.9, \"#4d9221\"], [1, \"#276419\"]], \"sequential\": [[0.0, \"#0d0887\"], [0.1111111111111111, \"#46039f\"], [0.2222222222222222, \"#7201a8\"], [0.3333333333333333, \"#9c179e\"], [0.4444444444444444, \"#bd3786\"], [0.5555555555555556, \"#d8576b\"], [0.6666666666666666, \"#ed7953\"], [0.7777777777777778, \"#fb9f3a\"], [0.8888888888888888, \"#fdca26\"], [1.0, \"#f0f921\"]], \"sequentialminus\": [[0.0, \"#0d0887\"], [0.1111111111111111, \"#46039f\"], [0.2222222222222222, \"#7201a8\"], [0.3333333333333333, \"#9c179e\"], [0.4444444444444444, \"#bd3786\"], [0.5555555555555556, \"#d8576b\"], [0.6666666666666666, \"#ed7953\"], [0.7777777777777778, \"#fb9f3a\"], [0.8888888888888888, \"#fdca26\"], [1.0, \"#f0f921\"]]}, \"colorway\": [\"#636efa\", \"#EF553B\", \"#00cc96\", \"#ab63fa\", \"#FFA15A\", \"#19d3f3\", \"#FF6692\", \"#B6E880\", \"#FF97FF\", \"#FECB52\"], \"font\": {\"color\": \"#2a3f5f\"}, \"geo\": {\"bgcolor\": \"white\", \"lakecolor\": \"white\", \"landcolor\": \"#E5ECF6\", \"showlakes\": true, \"showland\": true, \"subunitcolor\": \"white\"}, \"hoverlabel\": {\"align\": \"left\"}, \"hovermode\": \"closest\", \"mapbox\": {\"style\": \"light\"}, \"paper_bgcolor\": \"white\", \"plot_bgcolor\": \"#E5ECF6\", \"polar\": {\"angularaxis\": {\"gridcolor\": \"white\", \"linecolor\": \"white\", \"ticks\": \"\"}, \"bgcolor\": \"#E5ECF6\", \"radialaxis\": {\"gridcolor\": \"white\", \"linecolor\": \"white\", \"ticks\": \"\"}}, \"scene\": {\"xaxis\": {\"backgroundcolor\": \"#E5ECF6\", \"gridcolor\": \"white\", \"gridwidth\": 2, \"linecolor\": \"white\", \"showbackground\": true, \"ticks\": \"\", \"zerolinecolor\": \"white\"}, \"yaxis\": {\"backgroundcolor\": \"#E5ECF6\", \"gridcolor\": \"white\", \"gridwidth\": 2, \"linecolor\": \"white\", \"showbackground\": true, \"ticks\": \"\", \"zerolinecolor\": \"white\"}, \"zaxis\": {\"backgroundcolor\": \"#E5ECF6\", \"gridcolor\": \"white\", \"gridwidth\": 2, \"linecolor\": \"white\", \"showbackground\": true, \"ticks\": \"\", \"zerolinecolor\": \"white\"}}, \"shapedefaults\": {\"line\": {\"color\": \"#2a3f5f\"}}, \"ternary\": {\"aaxis\": {\"gridcolor\": \"white\", \"linecolor\": \"white\", \"ticks\": \"\"}, \"baxis\": {\"gridcolor\": \"white\", \"linecolor\": \"white\", \"ticks\": \"\"}, \"bgcolor\": \"#E5ECF6\", \"caxis\": {\"gridcolor\": \"white\", \"linecolor\": \"white\", \"ticks\": \"\"}}, \"title\": {\"x\": 0.05}, \"xaxis\": {\"automargin\": true, \"gridcolor\": \"white\", \"linecolor\": \"white\", \"ticks\": \"\", \"title\": {\"standoff\": 15}, \"zerolinecolor\": \"white\", \"zerolinewidth\": 2}, \"yaxis\": {\"automargin\": true, \"gridcolor\": \"white\", \"linecolor\": \"white\", \"ticks\": \"\", \"title\": {\"standoff\": 15}, \"zerolinecolor\": \"white\", \"zerolinewidth\": 2}}}},                        {\"responsive\": true}                    ).then(function(){\n",
       "                            \n",
       "var gd = document.getElementById('f2713cbb-23bb-4405-bcd3-2c7254fa45e2');\n",
       "var x = new MutationObserver(function (mutations, observer) {{\n",
       "        var display = window.getComputedStyle(gd).display;\n",
       "        if (!display || display === 'none') {{\n",
       "            console.log([gd, 'removed!']);\n",
       "            Plotly.purge(gd);\n",
       "            observer.disconnect();\n",
       "        }}\n",
       "}});\n",
       "\n",
       "// Listen for the removal of the full notebook cells\n",
       "var notebookContainer = gd.closest('#notebook-container');\n",
       "if (notebookContainer) {{\n",
       "    x.observe(notebookContainer, {childList: true});\n",
       "}}\n",
       "\n",
       "// Listen for the clearing of the current output cell\n",
       "var outputEl = gd.closest('.output');\n",
       "if (outputEl) {{\n",
       "    x.observe(outputEl, {childList: true});\n",
       "}}\n",
       "\n",
       "                        })                };                });            </script>        </div>"
      ]
     },
     "metadata": {},
     "output_type": "display_data"
    }
   ],
   "source": [
    "import plotly.express as px\n",
    "\n",
    "fig = px.pie(datesDf, values='message_count', names='date')\n",
    "fig.show()"
   ]
  },
  {
   "cell_type": "markdown",
   "metadata": {},
   "source": [
    "### Analysis for messages sent against time"
   ]
  },
  {
   "cell_type": "code",
   "execution_count": 53,
   "metadata": {},
   "outputs": [],
   "source": [
    "pattern2 = re.compile(\"(\\d\\d\\/\\d\\d\\/\\d\\d),\\s(\\d:\\d{2}\\s(?:am|pm))\")\n",
    "dateTime = re.findall(pattern2, chats)"
   ]
  },
  {
   "cell_type": "code",
   "execution_count": 112,
   "metadata": {},
   "outputs": [
    {
     "data": {
      "text/html": [
       "<div>\n",
       "<style scoped>\n",
       "    .dataframe tbody tr th:only-of-type {\n",
       "        vertical-align: middle;\n",
       "    }\n",
       "\n",
       "    .dataframe tbody tr th {\n",
       "        vertical-align: top;\n",
       "    }\n",
       "\n",
       "    .dataframe thead th {\n",
       "        text-align: right;\n",
       "    }\n",
       "</style>\n",
       "<table border=\"1\" class=\"dataframe\">\n",
       "  <thead>\n",
       "    <tr style=\"text-align: right;\">\n",
       "      <th></th>\n",
       "      <th>Date</th>\n",
       "      <th>Time</th>\n",
       "    </tr>\n",
       "  </thead>\n",
       "  <tbody>\n",
       "    <tr>\n",
       "      <th>0</th>\n",
       "      <td>24/08/20</td>\n",
       "      <td>6:03 pm</td>\n",
       "    </tr>\n",
       "    <tr>\n",
       "      <th>1</th>\n",
       "      <td>24/08/20</td>\n",
       "      <td>6:03 pm</td>\n",
       "    </tr>\n",
       "    <tr>\n",
       "      <th>2</th>\n",
       "      <td>24/08/20</td>\n",
       "      <td>6:03 pm</td>\n",
       "    </tr>\n",
       "    <tr>\n",
       "      <th>3</th>\n",
       "      <td>24/08/20</td>\n",
       "      <td>6:04 pm</td>\n",
       "    </tr>\n",
       "    <tr>\n",
       "      <th>4</th>\n",
       "      <td>24/08/20</td>\n",
       "      <td>6:08 pm</td>\n",
       "    </tr>\n",
       "    <tr>\n",
       "      <th>...</th>\n",
       "      <td>...</td>\n",
       "      <td>...</td>\n",
       "    </tr>\n",
       "    <tr>\n",
       "      <th>375</th>\n",
       "      <td>23/09/20</td>\n",
       "      <td>3:36 pm</td>\n",
       "    </tr>\n",
       "    <tr>\n",
       "      <th>376</th>\n",
       "      <td>23/09/20</td>\n",
       "      <td>4:03 pm</td>\n",
       "    </tr>\n",
       "    <tr>\n",
       "      <th>377</th>\n",
       "      <td>23/09/20</td>\n",
       "      <td>4:04 pm</td>\n",
       "    </tr>\n",
       "    <tr>\n",
       "      <th>378</th>\n",
       "      <td>23/09/20</td>\n",
       "      <td>4:13 pm</td>\n",
       "    </tr>\n",
       "    <tr>\n",
       "      <th>379</th>\n",
       "      <td>23/09/20</td>\n",
       "      <td>4:16 pm</td>\n",
       "    </tr>\n",
       "  </tbody>\n",
       "</table>\n",
       "<p>380 rows × 2 columns</p>\n",
       "</div>"
      ],
      "text/plain": [
       "         Date     Time\n",
       "0    24/08/20  6:03 pm\n",
       "1    24/08/20  6:03 pm\n",
       "2    24/08/20  6:03 pm\n",
       "3    24/08/20  6:04 pm\n",
       "4    24/08/20  6:08 pm\n",
       "..        ...      ...\n",
       "375  23/09/20  3:36 pm\n",
       "376  23/09/20  4:03 pm\n",
       "377  23/09/20  4:04 pm\n",
       "378  23/09/20  4:13 pm\n",
       "379  23/09/20  4:16 pm\n",
       "\n",
       "[380 rows x 2 columns]"
      ]
     },
     "execution_count": 112,
     "metadata": {},
     "output_type": "execute_result"
    }
   ],
   "source": [
    "df = pd.DataFrame(dateTime, columns= ['Date', 'Time'])\n",
    "df"
   ]
  },
  {
   "cell_type": "markdown",
   "metadata": {
    "scrolled": false
   },
   "source": [
    "### Data frame containing date time and member who sent the message and what message was sent"
   ]
  },
  {
   "cell_type": "code",
   "execution_count": 141,
   "metadata": {},
   "outputs": [
    {
     "data": {
      "text/html": [
       "<div>\n",
       "<style scoped>\n",
       "    .dataframe tbody tr th:only-of-type {\n",
       "        vertical-align: middle;\n",
       "    }\n",
       "\n",
       "    .dataframe tbody tr th {\n",
       "        vertical-align: top;\n",
       "    }\n",
       "\n",
       "    .dataframe thead th {\n",
       "        text-align: right;\n",
       "    }\n",
       "</style>\n",
       "<table border=\"1\" class=\"dataframe\">\n",
       "  <thead>\n",
       "    <tr style=\"text-align: right;\">\n",
       "      <th></th>\n",
       "      <th>date</th>\n",
       "      <th>time</th>\n",
       "      <th>sender</th>\n",
       "    </tr>\n",
       "  </thead>\n",
       "  <tbody>\n",
       "    <tr>\n",
       "      <th>0</th>\n",
       "      <td>24/08/20</td>\n",
       "      <td>6:04 pm</td>\n",
       "      <td>Shankare</td>\n",
       "    </tr>\n",
       "    <tr>\n",
       "      <th>1</th>\n",
       "      <td>24/08/20</td>\n",
       "      <td>6:08 pm</td>\n",
       "      <td>Jay</td>\n",
       "    </tr>\n",
       "    <tr>\n",
       "      <th>2</th>\n",
       "      <td>24/08/20</td>\n",
       "      <td>6:10 pm</td>\n",
       "      <td>Meena</td>\n",
       "    </tr>\n",
       "    <tr>\n",
       "      <th>3</th>\n",
       "      <td>24/08/20</td>\n",
       "      <td>6:47 pm</td>\n",
       "      <td>Mayur</td>\n",
       "    </tr>\n",
       "    <tr>\n",
       "      <th>4</th>\n",
       "      <td>24/08/20</td>\n",
       "      <td>7:45 pm</td>\n",
       "      <td>Siobhan</td>\n",
       "    </tr>\n",
       "    <tr>\n",
       "      <th>...</th>\n",
       "      <td>...</td>\n",
       "      <td>...</td>\n",
       "      <td>...</td>\n",
       "    </tr>\n",
       "    <tr>\n",
       "      <th>406</th>\n",
       "      <td>23/09/20</td>\n",
       "      <td>3:36 pm</td>\n",
       "      <td>Meena</td>\n",
       "    </tr>\n",
       "    <tr>\n",
       "      <th>407</th>\n",
       "      <td>23/09/20</td>\n",
       "      <td>4:03 pm</td>\n",
       "      <td>Siobhan</td>\n",
       "    </tr>\n",
       "    <tr>\n",
       "      <th>408</th>\n",
       "      <td>23/09/20</td>\n",
       "      <td>4:04 pm</td>\n",
       "      <td>Mayur</td>\n",
       "    </tr>\n",
       "    <tr>\n",
       "      <th>409</th>\n",
       "      <td>23/09/20</td>\n",
       "      <td>4:13 pm</td>\n",
       "      <td>Shaival</td>\n",
       "    </tr>\n",
       "    <tr>\n",
       "      <th>410</th>\n",
       "      <td>23/09/20</td>\n",
       "      <td>4:16 pm</td>\n",
       "      <td>Siobhan</td>\n",
       "    </tr>\n",
       "  </tbody>\n",
       "</table>\n",
       "<p>411 rows × 3 columns</p>\n",
       "</div>"
      ],
      "text/plain": [
       "         date     time    sender\n",
       "0    24/08/20  6:04 pm  Shankare\n",
       "1    24/08/20  6:08 pm       Jay\n",
       "2    24/08/20  6:10 pm     Meena\n",
       "3    24/08/20  6:47 pm     Mayur\n",
       "4    24/08/20  7:45 pm   Siobhan\n",
       "..        ...      ...       ...\n",
       "406  23/09/20  3:36 pm     Meena\n",
       "407  23/09/20  4:03 pm   Siobhan\n",
       "408  23/09/20  4:04 pm     Mayur\n",
       "409  23/09/20  4:13 pm   Shaival\n",
       "410  23/09/20  4:16 pm   Siobhan\n",
       "\n",
       "[411 rows x 3 columns]"
      ]
     },
     "execution_count": 141,
     "metadata": {},
     "output_type": "execute_result"
    }
   ],
   "source": [
    "pattern3 = re.compile(\"(\\d\\d\\/\\d\\d\\/\\d\\d),\\s(\\d*:\\d{2}\\s(?:am|pm))\\s-\\s(\\w*):\")\n",
    "chatTuple = re.findall(pattern3, chats)\n",
    "pd.DataFrame(chatTuple, columns=['date','time','sender'])"
   ]
  }
 ],
 "metadata": {
  "kernelspec": {
   "display_name": "Python 3",
   "language": "python",
   "name": "python3"
  },
  "language_info": {
   "codemirror_mode": {
    "name": "ipython",
    "version": 3
   },
   "file_extension": ".py",
   "mimetype": "text/x-python",
   "name": "python",
   "nbconvert_exporter": "python",
   "pygments_lexer": "ipython3",
   "version": "3.8.3"
  }
 },
 "nbformat": 4,
 "nbformat_minor": 4
}
